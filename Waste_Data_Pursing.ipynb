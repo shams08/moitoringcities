{
 "cells": [
  {
   "cell_type": "code",
   "execution_count": 40,
   "metadata": {},
   "outputs": [],
   "source": [
    "import pandas as pd"
   ]
  },
  {
   "cell_type": "code",
   "execution_count": 41,
   "metadata": {},
   "outputs": [
    {
     "name": "stderr",
     "output_type": "stream",
     "text": [
      "/anaconda3/lib/python3.7/site-packages/IPython/core/interactiveshell.py:3020: DtypeWarning: Columns (37) have mixed types. Specify dtype option on import or set low_memory=False.\n",
      "  interactivity=interactivity, compiler=compiler, result=result)\n"
     ]
    }
   ],
   "source": [
    "data = pd.read_csv(\"data/wasteraw_2014.csv\")"
   ]
  },
  {
   "cell_type": "code",
   "execution_count": 42,
   "metadata": {},
   "outputs": [
    {
     "data": {
      "text/html": [
       "<div>\n",
       "<style scoped>\n",
       "    .dataframe tbody tr th:only-of-type {\n",
       "        vertical-align: middle;\n",
       "    }\n",
       "\n",
       "    .dataframe tbody tr th {\n",
       "        vertical-align: top;\n",
       "    }\n",
       "\n",
       "    .dataframe thead th {\n",
       "        text-align: right;\n",
       "    }\n",
       "</style>\n",
       "<table border=\"1\" class=\"dataframe\">\n",
       "  <thead>\n",
       "    <tr style=\"text-align: right;\">\n",
       "      <th></th>\n",
       "      <th>Unnamed: 0</th>\n",
       "      <th>Truck_ID</th>\n",
       "      <th>Collection_Date</th>\n",
       "      <th>Shift_ID</th>\n",
       "      <th>HQ_Code</th>\n",
       "      <th>Zone_Code</th>\n",
       "      <th>District_Code</th>\n",
       "      <th>Section_Code</th>\n",
       "      <th>Route_Code</th>\n",
       "      <th>Material_Type_Code</th>\n",
       "      <th>...</th>\n",
       "      <th>exception code</th>\n",
       "      <th>authorized name</th>\n",
       "      <th>authorized badge</th>\n",
       "      <th>entry name</th>\n",
       "      <th>entry badge</th>\n",
       "      <th>DumpDate</th>\n",
       "      <th>DumpTime</th>\n",
       "      <th>relaycheck</th>\n",
       "      <th>Bin_Number</th>\n",
       "      <th>Finish_Trucks</th>\n",
       "    </tr>\n",
       "  </thead>\n",
       "  <tbody>\n",
       "    <tr>\n",
       "      <th>0</th>\n",
       "      <td>6403680</td>\n",
       "      <td>23W 009</td>\n",
       "      <td>2014-01-01</td>\n",
       "      <td>2</td>\n",
       "      <td>BCCHQ</td>\n",
       "      <td>BXBO</td>\n",
       "      <td>BXW02</td>\n",
       "      <td>BXW021</td>\n",
       "      <td>BXW021W2</td>\n",
       "      <td>24</td>\n",
       "      <td>...</td>\n",
       "      <td></td>\n",
       "      <td></td>\n",
       "      <td>0.0</td>\n",
       "      <td></td>\n",
       "      <td>00000</td>\n",
       "      <td>2014-01-01 00:00:00</td>\n",
       "      <td>10.0</td>\n",
       "      <td>NaN</td>\n",
       "      <td>1</td>\n",
       "      <td>0.25</td>\n",
       "    </tr>\n",
       "    <tr>\n",
       "      <th>1</th>\n",
       "      <td>6403681</td>\n",
       "      <td>23W 009</td>\n",
       "      <td>2014-01-01</td>\n",
       "      <td>2</td>\n",
       "      <td>BCCHQ</td>\n",
       "      <td>BXBO</td>\n",
       "      <td>BXW02</td>\n",
       "      <td>BXW021</td>\n",
       "      <td>BXW021W2</td>\n",
       "      <td>24</td>\n",
       "      <td>...</td>\n",
       "      <td></td>\n",
       "      <td></td>\n",
       "      <td>0.0</td>\n",
       "      <td></td>\n",
       "      <td>00000</td>\n",
       "      <td>2014-01-01 00:00:00</td>\n",
       "      <td>7.0</td>\n",
       "      <td>NaN</td>\n",
       "      <td>1</td>\n",
       "      <td>0.25</td>\n",
       "    </tr>\n",
       "    <tr>\n",
       "      <th>2</th>\n",
       "      <td>6403682</td>\n",
       "      <td>23W 009</td>\n",
       "      <td>2014-01-01</td>\n",
       "      <td>2</td>\n",
       "      <td>BCCHQ</td>\n",
       "      <td>BXBO</td>\n",
       "      <td>BXW02</td>\n",
       "      <td>BXW021</td>\n",
       "      <td>BXW021W2</td>\n",
       "      <td>24</td>\n",
       "      <td>...</td>\n",
       "      <td></td>\n",
       "      <td></td>\n",
       "      <td>0.0</td>\n",
       "      <td></td>\n",
       "      <td>00000</td>\n",
       "      <td>2014-01-01 00:00:00</td>\n",
       "      <td>8.0</td>\n",
       "      <td>NaN</td>\n",
       "      <td>1</td>\n",
       "      <td>0.25</td>\n",
       "    </tr>\n",
       "    <tr>\n",
       "      <th>3</th>\n",
       "      <td>6403683</td>\n",
       "      <td>23W 009</td>\n",
       "      <td>2014-01-01</td>\n",
       "      <td>2</td>\n",
       "      <td>BCCHQ</td>\n",
       "      <td>BXBO</td>\n",
       "      <td>BXW02</td>\n",
       "      <td>BXW021</td>\n",
       "      <td>BXW021W2</td>\n",
       "      <td>24</td>\n",
       "      <td>...</td>\n",
       "      <td></td>\n",
       "      <td></td>\n",
       "      <td>0.0</td>\n",
       "      <td></td>\n",
       "      <td>00000</td>\n",
       "      <td>2014-01-01 00:00:00</td>\n",
       "      <td>8.0</td>\n",
       "      <td>NaN</td>\n",
       "      <td>1</td>\n",
       "      <td>0.25</td>\n",
       "    </tr>\n",
       "    <tr>\n",
       "      <th>4</th>\n",
       "      <td>6403684</td>\n",
       "      <td>23W 101</td>\n",
       "      <td>2014-01-01</td>\n",
       "      <td>2</td>\n",
       "      <td>BCCHQ</td>\n",
       "      <td>MNBO</td>\n",
       "      <td>ME10</td>\n",
       "      <td>ME101</td>\n",
       "      <td>ME101W8</td>\n",
       "      <td>24</td>\n",
       "      <td>...</td>\n",
       "      <td></td>\n",
       "      <td></td>\n",
       "      <td>0.0</td>\n",
       "      <td></td>\n",
       "      <td>00000</td>\n",
       "      <td>2014-01-01 00:00:00</td>\n",
       "      <td>11.0</td>\n",
       "      <td>NaN</td>\n",
       "      <td>1</td>\n",
       "      <td>0.25</td>\n",
       "    </tr>\n",
       "  </tbody>\n",
       "</table>\n",
       "<p>5 rows × 43 columns</p>\n",
       "</div>"
      ],
      "text/plain": [
       "   Unnamed: 0 Truck_ID Collection_Date  Shift_ID HQ_Code Zone_Code  \\\n",
       "0     6403680  23W 009      2014-01-01         2  BCCHQ     BXBO     \n",
       "1     6403681  23W 009      2014-01-01         2  BCCHQ     BXBO     \n",
       "2     6403682  23W 009      2014-01-01         2  BCCHQ     BXBO     \n",
       "3     6403683  23W 009      2014-01-01         2  BCCHQ     BXBO     \n",
       "4     6403684  23W 101      2014-01-01         2  BCCHQ     MNBO     \n",
       "\n",
       "  District_Code Section_Code Route_Code  Material_Type_Code      ...        \\\n",
       "0        BXW02        BXW021   BXW021W2                  24      ...         \n",
       "1        BXW02        BXW021   BXW021W2                  24      ...         \n",
       "2        BXW02        BXW021   BXW021W2                  24      ...         \n",
       "3        BXW02        BXW021   BXW021W2                  24      ...         \n",
       "4        ME10         ME101    ME101W8                   24      ...         \n",
       "\n",
       "   exception code  authorized name  authorized badge       entry name  \\\n",
       "0                                                0.0                    \n",
       "1                                                0.0                    \n",
       "2                                                0.0                    \n",
       "3                                                0.0                    \n",
       "4                                                0.0                    \n",
       "\n",
       "   entry badge             DumpDate  DumpTime  relaycheck  Bin_Number  \\\n",
       "0        00000  2014-01-01 00:00:00      10.0         NaN           1   \n",
       "1        00000  2014-01-01 00:00:00       7.0         NaN           1   \n",
       "2        00000  2014-01-01 00:00:00       8.0         NaN           1   \n",
       "3        00000  2014-01-01 00:00:00       8.0         NaN           1   \n",
       "4        00000  2014-01-01 00:00:00      11.0         NaN           1   \n",
       "\n",
       "   Finish_Trucks  \n",
       "0           0.25  \n",
       "1           0.25  \n",
       "2           0.25  \n",
       "3           0.25  \n",
       "4           0.25  \n",
       "\n",
       "[5 rows x 43 columns]"
      ]
     },
     "execution_count": 42,
     "metadata": {},
     "output_type": "execute_result"
    }
   ],
   "source": [
    "data.head()"
   ]
  },
  {
   "cell_type": "code",
   "execution_count": 43,
   "metadata": {},
   "outputs": [
    {
     "data": {
      "text/plain": [
       "array(['BXW02 ', 'ME10  ', 'ME03  ', 'QNB   ', 'BKW10 ', 'MW04  ',\n",
       "       'MW09  ', 'ME11  ', 'QW09  ', 'OTHCLN', 'ME05  ', 'BKN08 ',\n",
       "       'BKE13 ', 'BKW12 ', 'BXW04 ', 'QW04  ', 'BKN01 ', 'BKN02 ',\n",
       "       'BKN03 ', 'BKN04 ', 'BKN05 ', 'MW07  ', 'BKE16 ', 'BKE17 ',\n",
       "       'MW01  ', 'MW02  ', 'BXE06 ', 'ME06  ', 'MW12  ', 'QW02  ',\n",
       "       'SI02  ', 'BKW07 ', 'BKW06 ', 'ME08  ', 'BKE14 ', 'BKE15 ',\n",
       "       'BKE18 ', 'BKW11 ', 'BXE09 ', 'BXE10 ', 'BXE11 ', 'BXE12 ',\n",
       "       'BXW01 ', 'BXW03 ', 'BXW05 ', 'BXW07 ', 'QN07  ', 'QN08  ',\n",
       "       'QN11  ', 'QS10  ', 'QS12  ', 'QS13  ', 'QS14  ', 'QW01  ',\n",
       "       'QW03  ', 'QW05  ', 'QW06  ', 'SI01  ', 'SI03  ', 'BKE09 ',\n",
       "       'BXW08 ', 'BXLC  ', 'QSLC  ', 'SILC  ', 'BKLC  ', 'QNLC  ',\n",
       "       'FKA   ', 'MNLC  '], dtype=object)"
      ]
     },
     "execution_count": 43,
     "metadata": {},
     "output_type": "execute_result"
    }
   ],
   "source": [
    "data.District_Code.unique()"
   ]
  },
  {
   "cell_type": "code",
   "execution_count": 44,
   "metadata": {},
   "outputs": [],
   "source": [
    "def trim_all_columns(df):\n",
    "    \"\"\"\n",
    "    Trim whitespace from ends of each value across all series in dataframe\n",
    "    \"\"\"\n",
    "    trim_strings = lambda x: x.strip() if type(x) is str else x\n",
    "    return df.applymap(trim_strings)\n",
    "data = trim_all_columns(data)"
   ]
  },
  {
   "cell_type": "code",
   "execution_count": 45,
   "metadata": {},
   "outputs": [
    {
     "data": {
      "text/plain": [
       "3679240.000000002"
      ]
     },
     "execution_count": 45,
     "metadata": {},
     "output_type": "execute_result"
    }
   ],
   "source": [
    "data.Tons_Collected.sum()"
   ]
  },
  {
   "cell_type": "code",
   "execution_count": 46,
   "metadata": {},
   "outputs": [
    {
     "data": {
      "text/plain": [
       "array([24, 87,  1, 31, 33,  6, 25, 45, 27, 14, 38, 26, 29, 82, 48, 81, 46,\n",
       "       78, 84, 80,  2, 41, 37, 39, 11, 28, 58, 54, 10, 12, 51, 32, 22, 65,\n",
       "       86, 97, 98, 96, 61, 60,  4])"
      ]
     },
     "execution_count": 46,
     "metadata": {},
     "output_type": "execute_result"
    }
   ],
   "source": [
    "data.Material_Type_Code.unique()"
   ]
  },
  {
   "cell_type": "code",
   "execution_count": 47,
   "metadata": {},
   "outputs": [],
   "source": [
    "#Within DSNY, the code for refuse is 01.\n",
    "#Within DSNY, the code for paper is 31.\n",
    "#Within DSNY, the code for residential organics is 45.\n",
    "#Within DSNY, the code for metal, glass, plastic (MGP) is 33."
   ]
  },
  {
   "cell_type": "code",
   "execution_count": 48,
   "metadata": {},
   "outputs": [],
   "source": [
    "data['year'] = pd.to_datetime (data.Collection_Date)\n",
    "data['month'] = pd.to_datetime (data.Collection_Date)"
   ]
  },
  {
   "cell_type": "code",
   "execution_count": 49,
   "metadata": {},
   "outputs": [],
   "source": [
    "#aggregate data\n",
    "refuse = data.loc[data.Material_Type_Code == 1]\n",
    "paper = data.loc[data.Material_Type_Code == 31]\n",
    "mgp = data.loc[data.Material_Type_Code == 33]\n",
    "organic = data.loc[data.Material_Type_Code == 45]"
   ]
  },
  {
   "cell_type": "code",
   "execution_count": 50,
   "metadata": {},
   "outputs": [
    {
     "data": {
      "text/html": [
       "<div>\n",
       "<style scoped>\n",
       "    .dataframe tbody tr th:only-of-type {\n",
       "        vertical-align: middle;\n",
       "    }\n",
       "\n",
       "    .dataframe tbody tr th {\n",
       "        vertical-align: top;\n",
       "    }\n",
       "\n",
       "    .dataframe thead th {\n",
       "        text-align: right;\n",
       "    }\n",
       "</style>\n",
       "<table border=\"1\" class=\"dataframe\">\n",
       "  <thead>\n",
       "    <tr style=\"text-align: right;\">\n",
       "      <th></th>\n",
       "      <th>Unnamed: 0</th>\n",
       "      <th>Truck_ID</th>\n",
       "      <th>Collection_Date</th>\n",
       "      <th>Shift_ID</th>\n",
       "      <th>HQ_Code</th>\n",
       "      <th>Zone_Code</th>\n",
       "      <th>District_Code</th>\n",
       "      <th>Section_Code</th>\n",
       "      <th>Route_Code</th>\n",
       "      <th>Material_Type_Code</th>\n",
       "      <th>...</th>\n",
       "      <th>authorized badge</th>\n",
       "      <th>entry name</th>\n",
       "      <th>entry badge</th>\n",
       "      <th>DumpDate</th>\n",
       "      <th>DumpTime</th>\n",
       "      <th>relaycheck</th>\n",
       "      <th>Bin_Number</th>\n",
       "      <th>Finish_Trucks</th>\n",
       "      <th>year</th>\n",
       "      <th>month</th>\n",
       "    </tr>\n",
       "  </thead>\n",
       "  <tbody>\n",
       "    <tr>\n",
       "      <th>29</th>\n",
       "      <td>6403709</td>\n",
       "      <td>25DC111</td>\n",
       "      <td>2014-01-01</td>\n",
       "      <td>2</td>\n",
       "      <td>OTHER</td>\n",
       "      <td>OTHCLN</td>\n",
       "      <td>OTHCLN</td>\n",
       "      <td>OTHCLN</td>\n",
       "      <td>OTHCLNW1</td>\n",
       "      <td>1</td>\n",
       "      <td>...</td>\n",
       "      <td>0.0</td>\n",
       "      <td></td>\n",
       "      <td>00000</td>\n",
       "      <td>2014-01-06 00:00:00</td>\n",
       "      <td>16.0</td>\n",
       "      <td>NaN</td>\n",
       "      <td>1</td>\n",
       "      <td>1.0</td>\n",
       "      <td>2014-01-01</td>\n",
       "      <td>2014-01-01</td>\n",
       "    </tr>\n",
       "    <tr>\n",
       "      <th>32</th>\n",
       "      <td>6403712</td>\n",
       "      <td>9999999</td>\n",
       "      <td>2014-01-01</td>\n",
       "      <td>3</td>\n",
       "      <td>BCCHQ</td>\n",
       "      <td>BKNBO</td>\n",
       "      <td>BKN08</td>\n",
       "      <td>BKN083</td>\n",
       "      <td>BKN083W2</td>\n",
       "      <td>1</td>\n",
       "      <td>...</td>\n",
       "      <td>0.0</td>\n",
       "      <td></td>\n",
       "      <td>00000</td>\n",
       "      <td>NaN</td>\n",
       "      <td>NaN</td>\n",
       "      <td>NaN</td>\n",
       "      <td>1</td>\n",
       "      <td>0.0</td>\n",
       "      <td>2014-01-01</td>\n",
       "      <td>2014-01-01</td>\n",
       "    </tr>\n",
       "    <tr>\n",
       "      <th>33</th>\n",
       "      <td>6403713</td>\n",
       "      <td>9999999</td>\n",
       "      <td>2014-01-01</td>\n",
       "      <td>3</td>\n",
       "      <td>BCCHQ</td>\n",
       "      <td>BKNBO</td>\n",
       "      <td>BKN08</td>\n",
       "      <td>BKN083</td>\n",
       "      <td>BKN083W3</td>\n",
       "      <td>1</td>\n",
       "      <td>...</td>\n",
       "      <td>0.0</td>\n",
       "      <td></td>\n",
       "      <td>00000</td>\n",
       "      <td>NaN</td>\n",
       "      <td>NaN</td>\n",
       "      <td>NaN</td>\n",
       "      <td>1</td>\n",
       "      <td>0.0</td>\n",
       "      <td>2014-01-01</td>\n",
       "      <td>2014-01-01</td>\n",
       "    </tr>\n",
       "    <tr>\n",
       "      <th>34</th>\n",
       "      <td>6403714</td>\n",
       "      <td>9999999</td>\n",
       "      <td>2014-01-01</td>\n",
       "      <td>3</td>\n",
       "      <td>BCCHQ</td>\n",
       "      <td>BKNBO</td>\n",
       "      <td>BKN08</td>\n",
       "      <td>BKN083</td>\n",
       "      <td>BKN083W4</td>\n",
       "      <td>1</td>\n",
       "      <td>...</td>\n",
       "      <td>0.0</td>\n",
       "      <td></td>\n",
       "      <td>00000</td>\n",
       "      <td>NaN</td>\n",
       "      <td>NaN</td>\n",
       "      <td>NaN</td>\n",
       "      <td>1</td>\n",
       "      <td>0.0</td>\n",
       "      <td>2014-01-01</td>\n",
       "      <td>2014-01-01</td>\n",
       "    </tr>\n",
       "    <tr>\n",
       "      <th>35</th>\n",
       "      <td>6403715</td>\n",
       "      <td>9999999</td>\n",
       "      <td>2014-01-01</td>\n",
       "      <td>3</td>\n",
       "      <td>BCCHQ</td>\n",
       "      <td>BKSBO</td>\n",
       "      <td>BKE13</td>\n",
       "      <td>BKE132</td>\n",
       "      <td>BKE132W1</td>\n",
       "      <td>1</td>\n",
       "      <td>...</td>\n",
       "      <td>11.0</td>\n",
       "      <td>000 00000 00000</td>\n",
       "      <td>0000</td>\n",
       "      <td>NaN</td>\n",
       "      <td>NaN</td>\n",
       "      <td>NaN</td>\n",
       "      <td>1</td>\n",
       "      <td>0.0</td>\n",
       "      <td>2014-01-01</td>\n",
       "      <td>2014-01-01</td>\n",
       "    </tr>\n",
       "  </tbody>\n",
       "</table>\n",
       "<p>5 rows × 45 columns</p>\n",
       "</div>"
      ],
      "text/plain": [
       "    Unnamed: 0 Truck_ID Collection_Date  Shift_ID HQ_Code Zone_Code  \\\n",
       "29     6403709  25DC111      2014-01-01         2   OTHER    OTHCLN   \n",
       "32     6403712  9999999      2014-01-01         3   BCCHQ     BKNBO   \n",
       "33     6403713  9999999      2014-01-01         3   BCCHQ     BKNBO   \n",
       "34     6403714  9999999      2014-01-01         3   BCCHQ     BKNBO   \n",
       "35     6403715  9999999      2014-01-01         3   BCCHQ     BKSBO   \n",
       "\n",
       "   District_Code Section_Code Route_Code  Material_Type_Code    ...      \\\n",
       "29        OTHCLN       OTHCLN   OTHCLNW1                   1    ...       \n",
       "32         BKN08       BKN083   BKN083W2                   1    ...       \n",
       "33         BKN08       BKN083   BKN083W3                   1    ...       \n",
       "34         BKN08       BKN083   BKN083W4                   1    ...       \n",
       "35         BKE13       BKE132   BKE132W1                   1    ...       \n",
       "\n",
       "    authorized badge       entry name  entry badge             DumpDate  \\\n",
       "29               0.0                         00000  2014-01-06 00:00:00   \n",
       "32               0.0                         00000                  NaN   \n",
       "33               0.0                         00000                  NaN   \n",
       "34               0.0                         00000                  NaN   \n",
       "35              11.0  000 00000 00000         0000                  NaN   \n",
       "\n",
       "    DumpTime  relaycheck  Bin_Number  Finish_Trucks       year      month  \n",
       "29      16.0         NaN           1            1.0 2014-01-01 2014-01-01  \n",
       "32       NaN         NaN           1            0.0 2014-01-01 2014-01-01  \n",
       "33       NaN         NaN           1            0.0 2014-01-01 2014-01-01  \n",
       "34       NaN         NaN           1            0.0 2014-01-01 2014-01-01  \n",
       "35       NaN         NaN           1            0.0 2014-01-01 2014-01-01  \n",
       "\n",
       "[5 rows x 45 columns]"
      ]
     },
     "execution_count": 50,
     "metadata": {},
     "output_type": "execute_result"
    }
   ],
   "source": [
    "refuse.head()"
   ]
  },
  {
   "cell_type": "markdown",
   "metadata": {},
   "source": [
    "# refuse"
   ]
  },
  {
   "cell_type": "code",
   "execution_count": 51,
   "metadata": {},
   "outputs": [
    {
     "data": {
      "text/plain": [
       "(318482, 45)"
      ]
     },
     "execution_count": 51,
     "metadata": {},
     "output_type": "execute_result"
    }
   ],
   "source": [
    "refuse.shape"
   ]
  },
  {
   "cell_type": "raw",
   "metadata": {},
   "source": [
    "## Temporal visualization"
   ]
  },
  {
   "cell_type": "code",
   "execution_count": 52,
   "metadata": {},
   "outputs": [],
   "source": [
    "refuse_vis = refuse.groupby([refuse.month.dt.month,refuse.year.dt.day  ]).sum()"
   ]
  },
  {
   "cell_type": "code",
   "execution_count": 53,
   "metadata": {},
   "outputs": [],
   "source": [
    "refuse_vis=refuse_vis.reset_index()"
   ]
  },
  {
   "cell_type": "code",
   "execution_count": 54,
   "metadata": {},
   "outputs": [
    {
     "data": {
      "text/plain": [
       "<Figure size 432x288 with 0 Axes>"
      ]
     },
     "metadata": {},
     "output_type": "display_data"
    },
    {
     "data": {
      "image/png": "[encoded data removed]",
      "text/plain": [
       "<Figure size 1440x576 with 1 Axes>"
      ]
     },
     "metadata": {
      "needs_background": "light"
     },
     "output_type": "display_data"
    }
   ],
   "source": [
    "\n",
    "import matplotlib.pyplot as plt\n",
    "plt.figure();\n",
    "refuse_vis.plot( y='Net_Weight', linewidth=1, fontsize= 22,\n",
    "                     figsize=(20,8), grid=True, x_compat=True)\n",
    "plt.xlabel('DAY', fontsize=22)\n",
    "plt.title('Daily refuse collection in 2014 in TONs',  fontsize=22)\n",
    "plt.legend(loc=2, prop={'size': 20})\n",
    "plt.show()"
   ]
  },
  {
   "cell_type": "raw",
   "metadata": {},
   "source": [
    "## EXPORT"
   ]
  },
  {
   "cell_type": "code",
   "execution_count": 56,
   "metadata": {},
   "outputs": [],
   "source": [
    "refuse_district_wise = refuse.groupby([refuse.District_Code,refuse.year.dt.year ]).sum()"
   ]
  },
  {
   "cell_type": "code",
   "execution_count": 57,
   "metadata": {},
   "outputs": [],
   "source": [
    "refuse_district_wise = refuse_district_wise.reset_index()"
   ]
  },
  {
   "cell_type": "code",
   "execution_count": 58,
   "metadata": {},
   "outputs": [],
   "source": [
    "refuse2014= refuse_district_wise[['District_Code', 'Net_Weight']].copy()"
   ]
  },
  {
   "cell_type": "code",
   "execution_count": 59,
   "metadata": {},
   "outputs": [],
   "source": [
    "refuse2014.to_csv(\"refuse_2014.csv\")"
   ]
  },
  {
   "cell_type": "code",
   "execution_count": 60,
   "metadata": {},
   "outputs": [
    {
     "data": {
      "text/plain": [
       "2858244.4399999985"
      ]
     },
     "execution_count": 60,
     "metadata": {},
     "output_type": "execute_result"
    }
   ],
   "source": [
    "refuse2014.Net_Weight.sum()"
   ]
  },
  {
   "cell_type": "markdown",
   "metadata": {},
   "source": [
    "# paper"
   ]
  },
  {
   "cell_type": "code",
   "execution_count": 61,
   "metadata": {},
   "outputs": [],
   "source": [
    "paper_district_wise = paper.groupby([paper.District_Code,paper.year.dt.year ]).sum()"
   ]
  },
  {
   "cell_type": "code",
   "execution_count": 62,
   "metadata": {},
   "outputs": [],
   "source": [
    "paper_district_wise = paper_district_wise.reset_index()"
   ]
  },
  {
   "cell_type": "code",
   "execution_count": 63,
   "metadata": {},
   "outputs": [],
   "source": [
    "paper2014= paper_district_wise[['District_Code', 'Net_Weight']]"
   ]
  },
  {
   "cell_type": "code",
   "execution_count": 64,
   "metadata": {},
   "outputs": [],
   "source": [
    "paper2014.to_csv(\"paper_2014.csv\")"
   ]
  },
  {
   "cell_type": "markdown",
   "metadata": {},
   "source": [
    "# glass/metal/plastic"
   ]
  },
  {
   "cell_type": "code",
   "execution_count": 66,
   "metadata": {},
   "outputs": [],
   "source": [
    "gmp_district_wise = mgp.groupby([mgp.District_Code,mgp.year.dt.year ]).sum()"
   ]
  },
  {
   "cell_type": "code",
   "execution_count": 67,
   "metadata": {},
   "outputs": [],
   "source": [
    "gmp_district_wise = gmp_district_wise.reset_index()"
   ]
  },
  {
   "cell_type": "code",
   "execution_count": 68,
   "metadata": {},
   "outputs": [],
   "source": [
    "gmp2014= gmp_district_wise[['District_Code', 'Net_Weight']]"
   ]
  },
  {
   "cell_type": "code",
   "execution_count": 69,
   "metadata": {},
   "outputs": [],
   "source": [
    "gmp2014.to_csv(\"glass_metal_plastic_2014.csv\")"
   ]
  }
 ],
 "metadata": {
  "kernelspec": {
   "display_name": "Python 3",
   "language": "python",
   "name": "python3"
  },
  "language_info": {
   "codemirror_mode": {
    "name": "ipython",
    "version": 3
   },
   "file_extension": ".py",
   "mimetype": "text/x-python",
   "name": "python",
   "nbconvert_exporter": "python",
   "pygments_lexer": "ipython3",
   "version": "3.7.1"
  }
 },
 "nbformat": 4,
 "nbformat_minor": 2
}
