{
 "cells": [
  {
   "cell_type": "code",
   "execution_count": 3,
   "metadata": {},
   "outputs": [],
   "source": [
    "#import modules we need to use for this session\n",
    "import pandas as pd\n",
    "import numpy as np\n",
    "import matplotlib.pyplot as plt"
   ]
  },
  {
   "cell_type": "code",
   "execution_count": 4,
   "metadata": {},
   "outputs": [
    {
     "name": "stderr",
     "output_type": "stream",
     "text": [
      "/anaconda3/lib/python3.7/site-packages/numpy/lib/arraysetops.py:522: FutureWarning: elementwise comparison failed; returning scalar instead, but in the future will perform elementwise comparison\n",
      "  mask |= (ar1 == a)\n"
     ]
    },
    {
     "data": {
      "text/html": [
       "<div>\n",
       "<style scoped>\n",
       "    .dataframe tbody tr th:only-of-type {\n",
       "        vertical-align: middle;\n",
       "    }\n",
       "\n",
       "    .dataframe tbody tr th {\n",
       "        vertical-align: top;\n",
       "    }\n",
       "\n",
       "    .dataframe thead th {\n",
       "        text-align: right;\n",
       "    }\n",
       "</style>\n",
       "<table border=\"1\" class=\"dataframe\">\n",
       "  <thead>\n",
       "    <tr style=\"text-align: right;\">\n",
       "      <th></th>\n",
       "      <th>Meter_ID</th>\n",
       "      <th>DT</th>\n",
       "      <th>READING</th>\n",
       "      <th>BAD</th>\n",
       "      <th>LOADCONTROL</th>\n",
       "      <th>FILLED</th>\n",
       "      <th>INCOMPLETE</th>\n",
       "      <th>LOADEVENT</th>\n",
       "      <th>year</th>\n",
       "      <th>day</th>\n",
       "    </tr>\n",
       "  </thead>\n",
       "  <tbody>\n",
       "    <tr>\n",
       "      <th>0</th>\n",
       "      <td>SYS:WLOAD.T</td>\n",
       "      <td>01/01/2008 00:00</td>\n",
       "      <td>5948.762</td>\n",
       "      <td>False</td>\n",
       "      <td>False</td>\n",
       "      <td>False</td>\n",
       "      <td>False</td>\n",
       "      <td>False</td>\n",
       "      <td>2008</td>\n",
       "      <td>2008-01-01</td>\n",
       "    </tr>\n",
       "    <tr>\n",
       "      <th>1</th>\n",
       "      <td>SYS:WLOAD.T</td>\n",
       "      <td>01/01/2008 01:00</td>\n",
       "      <td>5701.739</td>\n",
       "      <td>False</td>\n",
       "      <td>False</td>\n",
       "      <td>False</td>\n",
       "      <td>False</td>\n",
       "      <td>False</td>\n",
       "      <td>2008</td>\n",
       "      <td>2008-01-01</td>\n",
       "    </tr>\n",
       "    <tr>\n",
       "      <th>2</th>\n",
       "      <td>SYS:WLOAD.T</td>\n",
       "      <td>01/01/2008 02:00</td>\n",
       "      <td>5434.077</td>\n",
       "      <td>False</td>\n",
       "      <td>False</td>\n",
       "      <td>False</td>\n",
       "      <td>False</td>\n",
       "      <td>False</td>\n",
       "      <td>2008</td>\n",
       "      <td>2008-01-01</td>\n",
       "    </tr>\n",
       "    <tr>\n",
       "      <th>3</th>\n",
       "      <td>SYS:WLOAD.T</td>\n",
       "      <td>01/01/2008 03:00</td>\n",
       "      <td>5243.840</td>\n",
       "      <td>False</td>\n",
       "      <td>False</td>\n",
       "      <td>False</td>\n",
       "      <td>False</td>\n",
       "      <td>False</td>\n",
       "      <td>2008</td>\n",
       "      <td>2008-01-01</td>\n",
       "    </tr>\n",
       "    <tr>\n",
       "      <th>4</th>\n",
       "      <td>SYS:WLOAD.T</td>\n",
       "      <td>01/01/2008 04:00</td>\n",
       "      <td>5145.929</td>\n",
       "      <td>False</td>\n",
       "      <td>False</td>\n",
       "      <td>False</td>\n",
       "      <td>False</td>\n",
       "      <td>False</td>\n",
       "      <td>2008</td>\n",
       "      <td>2008-01-01</td>\n",
       "    </tr>\n",
       "  </tbody>\n",
       "</table>\n",
       "</div>"
      ],
      "text/plain": [
       "      Meter_ID                DT   READING    BAD  LOADCONTROL  FILLED  \\\n",
       "0  SYS:WLOAD.T  01/01/2008 00:00  5948.762  False        False   False   \n",
       "1  SYS:WLOAD.T  01/01/2008 01:00  5701.739  False        False   False   \n",
       "2  SYS:WLOAD.T  01/01/2008 02:00  5434.077  False        False   False   \n",
       "3  SYS:WLOAD.T  01/01/2008 03:00  5243.840  False        False   False   \n",
       "4  SYS:WLOAD.T  01/01/2008 04:00  5145.929  False        False   False   \n",
       "\n",
       "   INCOMPLETE  LOADEVENT  year         day  \n",
       "0       False      False  2008  2008-01-01  \n",
       "1       False      False  2008  2008-01-01  \n",
       "2       False      False  2008  2008-01-01  \n",
       "3       False      False  2008  2008-01-01  \n",
       "4       False      False  2008  2008-01-01  "
      ]
     },
     "execution_count": 4,
     "metadata": {},
     "output_type": "execute_result"
    }
   ],
   "source": [
    "df = pd.read_csv( 'network_time_converted.csv' , index_col=0 )\n",
    "df.head()"
   ]
  },
  {
   "cell_type": "code",
   "execution_count": 5,
   "metadata": {},
   "outputs": [],
   "source": [
    "df[\"DT\"]= pd.to_datetime(df.DT)"
   ]
  },
  {
   "cell_type": "code",
   "execution_count": 6,
   "metadata": {},
   "outputs": [
    {
     "data": {
      "text/plain": [
       "array([2008, 2009, 2010, 2011, 2012, 2013, 2014, 2015, 2016])"
      ]
     },
     "execution_count": 6,
     "metadata": {},
     "output_type": "execute_result"
    }
   ],
   "source": [
    "df.DT.dt.year.unique()\n"
   ]
  },
  {
   "cell_type": "code",
   "execution_count": 7,
   "metadata": {},
   "outputs": [],
   "source": [
    "df['year'] = df['DT'].dt.year\n",
    "    "
   ]
  },
  {
   "cell_type": "code",
   "execution_count": 8,
   "metadata": {},
   "outputs": [],
   "source": [
    "df2013 = df.loc[df['year']==2013]"
   ]
  },
  {
   "cell_type": "code",
   "execution_count": 9,
   "metadata": {},
   "outputs": [],
   "source": [
    "df2013=df2013.drop(['year', 'day'], axis=1)"
   ]
  },
  {
   "cell_type": "code",
   "execution_count": 10,
   "metadata": {},
   "outputs": [],
   "source": [
    "df2013.to_csv(\"output/NYC2013.csv\")"
   ]
  },
  {
   "cell_type": "code",
   "execution_count": 11,
   "metadata": {},
   "outputs": [
    {
     "data": {
      "text/html": [
       "<div>\n",
       "<style scoped>\n",
       "    .dataframe tbody tr th:only-of-type {\n",
       "        vertical-align: middle;\n",
       "    }\n",
       "\n",
       "    .dataframe tbody tr th {\n",
       "        vertical-align: top;\n",
       "    }\n",
       "\n",
       "    .dataframe thead th {\n",
       "        text-align: right;\n",
       "    }\n",
       "</style>\n",
       "<table border=\"1\" class=\"dataframe\">\n",
       "  <thead>\n",
       "    <tr style=\"text-align: right;\">\n",
       "      <th></th>\n",
       "      <th>Meter_ID</th>\n",
       "      <th>DT</th>\n",
       "      <th>READING</th>\n",
       "      <th>BAD</th>\n",
       "      <th>LOADCONTROL</th>\n",
       "      <th>FILLED</th>\n",
       "      <th>INCOMPLETE</th>\n",
       "      <th>LOADEVENT</th>\n",
       "    </tr>\n",
       "  </thead>\n",
       "  <tbody>\n",
       "    <tr>\n",
       "      <th>43848</th>\n",
       "      <td>SYS:WLOAD.T</td>\n",
       "      <td>2013-01-01 00:00:00</td>\n",
       "      <td>5860.865</td>\n",
       "      <td>False</td>\n",
       "      <td>False</td>\n",
       "      <td>False</td>\n",
       "      <td>False</td>\n",
       "      <td>False</td>\n",
       "    </tr>\n",
       "    <tr>\n",
       "      <th>43849</th>\n",
       "      <td>SYS:WLOAD.T</td>\n",
       "      <td>2013-01-01 01:00:00</td>\n",
       "      <td>5640.712</td>\n",
       "      <td>False</td>\n",
       "      <td>False</td>\n",
       "      <td>False</td>\n",
       "      <td>False</td>\n",
       "      <td>False</td>\n",
       "    </tr>\n",
       "    <tr>\n",
       "      <th>43850</th>\n",
       "      <td>SYS:WLOAD.T</td>\n",
       "      <td>2013-01-01 02:00:00</td>\n",
       "      <td>5392.987</td>\n",
       "      <td>False</td>\n",
       "      <td>False</td>\n",
       "      <td>False</td>\n",
       "      <td>False</td>\n",
       "      <td>False</td>\n",
       "    </tr>\n",
       "    <tr>\n",
       "      <th>43851</th>\n",
       "      <td>SYS:WLOAD.T</td>\n",
       "      <td>2013-01-01 03:00:00</td>\n",
       "      <td>5204.649</td>\n",
       "      <td>False</td>\n",
       "      <td>False</td>\n",
       "      <td>False</td>\n",
       "      <td>False</td>\n",
       "      <td>False</td>\n",
       "    </tr>\n",
       "    <tr>\n",
       "      <th>43852</th>\n",
       "      <td>SYS:WLOAD.T</td>\n",
       "      <td>2013-01-01 04:00:00</td>\n",
       "      <td>5118.965</td>\n",
       "      <td>False</td>\n",
       "      <td>False</td>\n",
       "      <td>False</td>\n",
       "      <td>False</td>\n",
       "      <td>False</td>\n",
       "    </tr>\n",
       "  </tbody>\n",
       "</table>\n",
       "</div>"
      ],
      "text/plain": [
       "          Meter_ID                  DT   READING    BAD  LOADCONTROL  FILLED  \\\n",
       "43848  SYS:WLOAD.T 2013-01-01 00:00:00  5860.865  False        False   False   \n",
       "43849  SYS:WLOAD.T 2013-01-01 01:00:00  5640.712  False        False   False   \n",
       "43850  SYS:WLOAD.T 2013-01-01 02:00:00  5392.987  False        False   False   \n",
       "43851  SYS:WLOAD.T 2013-01-01 03:00:00  5204.649  False        False   False   \n",
       "43852  SYS:WLOAD.T 2013-01-01 04:00:00  5118.965  False        False   False   \n",
       "\n",
       "       INCOMPLETE  LOADEVENT  \n",
       "43848       False      False  \n",
       "43849       False      False  \n",
       "43850       False      False  \n",
       "43851       False      False  \n",
       "43852       False      False  "
      ]
     },
     "execution_count": 11,
     "metadata": {},
     "output_type": "execute_result"
    }
   ],
   "source": [
    "df2013.head()"
   ]
  },
  {
   "cell_type": "code",
   "execution_count": 12,
   "metadata": {},
   "outputs": [],
   "source": [
    "NYC_daily= df2013.groupby(['Meter_ID',df2013.DT.dt.date]).sum()"
   ]
  },
  {
   "cell_type": "code",
   "execution_count": 13,
   "metadata": {},
   "outputs": [
    {
     "data": {
      "text/html": [
       "<div>\n",
       "<style scoped>\n",
       "    .dataframe tbody tr th:only-of-type {\n",
       "        vertical-align: middle;\n",
       "    }\n",
       "\n",
       "    .dataframe tbody tr th {\n",
       "        vertical-align: top;\n",
       "    }\n",
       "\n",
       "    .dataframe thead th {\n",
       "        text-align: right;\n",
       "    }\n",
       "</style>\n",
       "<table border=\"1\" class=\"dataframe\">\n",
       "  <thead>\n",
       "    <tr style=\"text-align: right;\">\n",
       "      <th></th>\n",
       "      <th></th>\n",
       "      <th>READING</th>\n",
       "      <th>BAD</th>\n",
       "      <th>LOADCONTROL</th>\n",
       "      <th>FILLED</th>\n",
       "      <th>INCOMPLETE</th>\n",
       "      <th>LOADEVENT</th>\n",
       "    </tr>\n",
       "    <tr>\n",
       "      <th>Meter_ID</th>\n",
       "      <th>DT</th>\n",
       "      <th></th>\n",
       "      <th></th>\n",
       "      <th></th>\n",
       "      <th></th>\n",
       "      <th></th>\n",
       "      <th></th>\n",
       "    </tr>\n",
       "  </thead>\n",
       "  <tbody>\n",
       "    <tr>\n",
       "      <th rowspan=\"5\" valign=\"top\">1012MLODWXA.T</th>\n",
       "      <th>2013-01-01</th>\n",
       "      <td>2339.778</td>\n",
       "      <td>0.0</td>\n",
       "      <td>0.0</td>\n",
       "      <td>0.0</td>\n",
       "      <td>0.0</td>\n",
       "      <td>0.0</td>\n",
       "    </tr>\n",
       "    <tr>\n",
       "      <th>2013-01-02</th>\n",
       "      <td>2536.866</td>\n",
       "      <td>0.0</td>\n",
       "      <td>0.0</td>\n",
       "      <td>0.0</td>\n",
       "      <td>0.0</td>\n",
       "      <td>0.0</td>\n",
       "    </tr>\n",
       "    <tr>\n",
       "      <th>2013-01-03</th>\n",
       "      <td>2335.669</td>\n",
       "      <td>0.0</td>\n",
       "      <td>0.0</td>\n",
       "      <td>0.0</td>\n",
       "      <td>0.0</td>\n",
       "      <td>0.0</td>\n",
       "    </tr>\n",
       "    <tr>\n",
       "      <th>2013-01-04</th>\n",
       "      <td>2517.847</td>\n",
       "      <td>0.0</td>\n",
       "      <td>0.0</td>\n",
       "      <td>0.0</td>\n",
       "      <td>0.0</td>\n",
       "      <td>0.0</td>\n",
       "    </tr>\n",
       "    <tr>\n",
       "      <th>2013-01-05</th>\n",
       "      <td>2175.575</td>\n",
       "      <td>0.0</td>\n",
       "      <td>0.0</td>\n",
       "      <td>0.0</td>\n",
       "      <td>0.0</td>\n",
       "      <td>0.0</td>\n",
       "    </tr>\n",
       "  </tbody>\n",
       "</table>\n",
       "</div>"
      ],
      "text/plain": [
       "                           READING  BAD  LOADCONTROL  FILLED  INCOMPLETE  \\\n",
       "Meter_ID      DT                                                           \n",
       "1012MLODWXA.T 2013-01-01  2339.778  0.0          0.0     0.0         0.0   \n",
       "              2013-01-02  2536.866  0.0          0.0     0.0         0.0   \n",
       "              2013-01-03  2335.669  0.0          0.0     0.0         0.0   \n",
       "              2013-01-04  2517.847  0.0          0.0     0.0         0.0   \n",
       "              2013-01-05  2175.575  0.0          0.0     0.0         0.0   \n",
       "\n",
       "                          LOADEVENT  \n",
       "Meter_ID      DT                     \n",
       "1012MLODWXA.T 2013-01-01        0.0  \n",
       "              2013-01-02        0.0  \n",
       "              2013-01-03        0.0  \n",
       "              2013-01-04        0.0  \n",
       "              2013-01-05        0.0  "
      ]
     },
     "execution_count": 13,
     "metadata": {},
     "output_type": "execute_result"
    }
   ],
   "source": [
    "NYC_daily.head()"
   ]
  },
  {
   "cell_type": "code",
   "execution_count": 14,
   "metadata": {},
   "outputs": [],
   "source": [
    "#NYC daily power use on 2013 (meter wise)\n",
    "NYC_daily.to_csv(\"output/NYC_daily_zone_wise.csv\")"
   ]
  },
  {
   "cell_type": "code",
   "execution_count": 15,
   "metadata": {},
   "outputs": [],
   "source": [
    "NYC_daily_whole= df2013.groupby([df2013.DT.dt.date]).sum()"
   ]
  },
  {
   "cell_type": "code",
   "execution_count": 16,
   "metadata": {},
   "outputs": [
    {
     "data": {
      "text/html": [
       "<div>\n",
       "<style scoped>\n",
       "    .dataframe tbody tr th:only-of-type {\n",
       "        vertical-align: middle;\n",
       "    }\n",
       "\n",
       "    .dataframe tbody tr th {\n",
       "        vertical-align: top;\n",
       "    }\n",
       "\n",
       "    .dataframe thead th {\n",
       "        text-align: right;\n",
       "    }\n",
       "</style>\n",
       "<table border=\"1\" class=\"dataframe\">\n",
       "  <thead>\n",
       "    <tr style=\"text-align: right;\">\n",
       "      <th></th>\n",
       "      <th>READING</th>\n",
       "      <th>BAD</th>\n",
       "      <th>LOADCONTROL</th>\n",
       "      <th>FILLED</th>\n",
       "      <th>INCOMPLETE</th>\n",
       "      <th>LOADEVENT</th>\n",
       "    </tr>\n",
       "    <tr>\n",
       "      <th>DT</th>\n",
       "      <th></th>\n",
       "      <th></th>\n",
       "      <th></th>\n",
       "      <th></th>\n",
       "      <th></th>\n",
       "      <th></th>\n",
       "    </tr>\n",
       "  </thead>\n",
       "  <tbody>\n",
       "    <tr>\n",
       "      <th>2013-01-01</th>\n",
       "      <td>256520.791</td>\n",
       "      <td>0.0</td>\n",
       "      <td>0.0</td>\n",
       "      <td>0.0</td>\n",
       "      <td>0.0</td>\n",
       "      <td>0.0</td>\n",
       "    </tr>\n",
       "    <tr>\n",
       "      <th>2013-01-02</th>\n",
       "      <td>292925.203</td>\n",
       "      <td>0.0</td>\n",
       "      <td>0.0</td>\n",
       "      <td>0.0</td>\n",
       "      <td>0.0</td>\n",
       "      <td>0.0</td>\n",
       "    </tr>\n",
       "    <tr>\n",
       "      <th>2013-01-03</th>\n",
       "      <td>292680.543</td>\n",
       "      <td>0.0</td>\n",
       "      <td>0.0</td>\n",
       "      <td>0.0</td>\n",
       "      <td>0.0</td>\n",
       "      <td>0.0</td>\n",
       "    </tr>\n",
       "    <tr>\n",
       "      <th>2013-01-04</th>\n",
       "      <td>289281.249</td>\n",
       "      <td>0.0</td>\n",
       "      <td>0.0</td>\n",
       "      <td>0.0</td>\n",
       "      <td>0.0</td>\n",
       "      <td>0.0</td>\n",
       "    </tr>\n",
       "    <tr>\n",
       "      <th>2013-01-05</th>\n",
       "      <td>262504.643</td>\n",
       "      <td>0.0</td>\n",
       "      <td>0.0</td>\n",
       "      <td>0.0</td>\n",
       "      <td>0.0</td>\n",
       "      <td>0.0</td>\n",
       "    </tr>\n",
       "  </tbody>\n",
       "</table>\n",
       "</div>"
      ],
      "text/plain": [
       "               READING  BAD  LOADCONTROL  FILLED  INCOMPLETE  LOADEVENT\n",
       "DT                                                                     \n",
       "2013-01-01  256520.791  0.0          0.0     0.0         0.0        0.0\n",
       "2013-01-02  292925.203  0.0          0.0     0.0         0.0        0.0\n",
       "2013-01-03  292680.543  0.0          0.0     0.0         0.0        0.0\n",
       "2013-01-04  289281.249  0.0          0.0     0.0         0.0        0.0\n",
       "2013-01-05  262504.643  0.0          0.0     0.0         0.0        0.0"
      ]
     },
     "execution_count": 16,
     "metadata": {},
     "output_type": "execute_result"
    }
   ],
   "source": [
    "NYC_daily_whole.head()"
   ]
  },
  {
   "cell_type": "code",
   "execution_count": 17,
   "metadata": {},
   "outputs": [],
   "source": [
    "#NYC daily power use 2013 for entire city\n",
    "NYC_daily_whole.to_csv(\"output/NYC_daily_whole_NYC.csv\")"
   ]
  },
  {
   "cell_type": "code",
   "execution_count": 18,
   "metadata": {},
   "outputs": [],
   "source": [
    "NYC_monthly= df2013.groupby(['Meter_ID',df2013.DT.dt.month]).sum()"
   ]
  },
  {
   "cell_type": "code",
   "execution_count": 19,
   "metadata": {},
   "outputs": [
    {
     "data": {
      "text/html": [
       "<div>\n",
       "<style scoped>\n",
       "    .dataframe tbody tr th:only-of-type {\n",
       "        vertical-align: middle;\n",
       "    }\n",
       "\n",
       "    .dataframe tbody tr th {\n",
       "        vertical-align: top;\n",
       "    }\n",
       "\n",
       "    .dataframe thead th {\n",
       "        text-align: right;\n",
       "    }\n",
       "</style>\n",
       "<table border=\"1\" class=\"dataframe\">\n",
       "  <thead>\n",
       "    <tr style=\"text-align: right;\">\n",
       "      <th></th>\n",
       "      <th></th>\n",
       "      <th>READING</th>\n",
       "      <th>BAD</th>\n",
       "      <th>LOADCONTROL</th>\n",
       "      <th>FILLED</th>\n",
       "      <th>INCOMPLETE</th>\n",
       "      <th>LOADEVENT</th>\n",
       "    </tr>\n",
       "    <tr>\n",
       "      <th>Meter_ID</th>\n",
       "      <th>DT</th>\n",
       "      <th></th>\n",
       "      <th></th>\n",
       "      <th></th>\n",
       "      <th></th>\n",
       "      <th></th>\n",
       "      <th></th>\n",
       "    </tr>\n",
       "  </thead>\n",
       "  <tbody>\n",
       "    <tr>\n",
       "      <th rowspan=\"5\" valign=\"top\">1012MLODWXA.T</th>\n",
       "      <th>1</th>\n",
       "      <td>76087.53600</td>\n",
       "      <td>0.0</td>\n",
       "      <td>0.0</td>\n",
       "      <td>0.0</td>\n",
       "      <td>0.0</td>\n",
       "      <td>0.0</td>\n",
       "    </tr>\n",
       "    <tr>\n",
       "      <th>2</th>\n",
       "      <td>70860.70500</td>\n",
       "      <td>0.0</td>\n",
       "      <td>0.0</td>\n",
       "      <td>0.0</td>\n",
       "      <td>0.0</td>\n",
       "      <td>0.0</td>\n",
       "    </tr>\n",
       "    <tr>\n",
       "      <th>3</th>\n",
       "      <td>75579.16000</td>\n",
       "      <td>0.0</td>\n",
       "      <td>0.0</td>\n",
       "      <td>0.0</td>\n",
       "      <td>0.0</td>\n",
       "      <td>0.0</td>\n",
       "    </tr>\n",
       "    <tr>\n",
       "      <th>4</th>\n",
       "      <td>70891.31954</td>\n",
       "      <td>0.0</td>\n",
       "      <td>0.0</td>\n",
       "      <td>0.0</td>\n",
       "      <td>0.0</td>\n",
       "      <td>0.0</td>\n",
       "    </tr>\n",
       "    <tr>\n",
       "      <th>5</th>\n",
       "      <td>75844.96248</td>\n",
       "      <td>0.0</td>\n",
       "      <td>0.0</td>\n",
       "      <td>0.0</td>\n",
       "      <td>0.0</td>\n",
       "      <td>0.0</td>\n",
       "    </tr>\n",
       "  </tbody>\n",
       "</table>\n",
       "</div>"
      ],
      "text/plain": [
       "                      READING  BAD  LOADCONTROL  FILLED  INCOMPLETE  LOADEVENT\n",
       "Meter_ID      DT                                                              \n",
       "1012MLODWXA.T 1   76087.53600  0.0          0.0     0.0         0.0        0.0\n",
       "              2   70860.70500  0.0          0.0     0.0         0.0        0.0\n",
       "              3   75579.16000  0.0          0.0     0.0         0.0        0.0\n",
       "              4   70891.31954  0.0          0.0     0.0         0.0        0.0\n",
       "              5   75844.96248  0.0          0.0     0.0         0.0        0.0"
      ]
     },
     "execution_count": 19,
     "metadata": {},
     "output_type": "execute_result"
    }
   ],
   "source": [
    "NYC_monthly.head()"
   ]
  },
  {
   "cell_type": "code",
   "execution_count": 20,
   "metadata": {},
   "outputs": [],
   "source": [
    "#meterwise NYC monthly power use 2013\n",
    "NYC_monthly.to_csv(\"output/NYC_monthly_zone_wise.csv\")"
   ]
  },
  {
   "cell_type": "code",
   "execution_count": 21,
   "metadata": {},
   "outputs": [],
   "source": [
    "NYC_monthly_whole= df2013.groupby([df2013.DT.dt.month]).sum()"
   ]
  },
  {
   "cell_type": "code",
   "execution_count": 23,
   "metadata": {},
   "outputs": [],
   "source": [
    "# montly power use for entire city 2013\n",
    "NYC_monthly_whole.to_csv(\"output/NYC_monthly_whole_nyc.csv\")"
   ]
  },
  {
   "cell_type": "code",
   "execution_count": 24,
   "metadata": {},
   "outputs": [],
   "source": [
    "#yearly\n",
    "NYC_yearly_zone= df2013.groupby(['Meter_ID']).sum()"
   ]
  },
  {
   "cell_type": "code",
   "execution_count": 25,
   "metadata": {},
   "outputs": [],
   "source": [
    "NYC_yearly_zone.to_csv(\"output/NYC_2013_zone_wise.csv\")"
   ]
  },
  {
   "cell_type": "markdown",
   "metadata": {},
   "source": [
    "# Brooklyn"
   ]
  },
  {
   "cell_type": "code",
   "execution_count": 26,
   "metadata": {},
   "outputs": [],
   "source": [
    "bk1= df2013.loc[df2013['Meter_ID']==\"BN110BLODWXA.T\"]"
   ]
  },
  {
   "cell_type": "code",
   "execution_count": 27,
   "metadata": {},
   "outputs": [],
   "source": [
    "bk2= df2013.loc[df2013['Meter_ID']==\"BN17BLODWXA.T\"]"
   ]
  },
  {
   "cell_type": "code",
   "execution_count": 28,
   "metadata": {},
   "outputs": [],
   "source": [
    "bk3= df2013.loc[df2013['Meter_ID']==\"BN211BLODWXA.T\"]"
   ]
  },
  {
   "cell_type": "code",
   "execution_count": 29,
   "metadata": {},
   "outputs": [],
   "source": [
    "bk4= df2013.loc[df2013['Meter_ID']==\"BN24BLODWXA.T\"]"
   ]
  },
  {
   "cell_type": "code",
   "execution_count": 30,
   "metadata": {},
   "outputs": [],
   "source": [
    "bk5= df2013.loc[df2013['Meter_ID']==\"BV13BLODWXA.T\"]"
   ]
  },
  {
   "cell_type": "code",
   "execution_count": 31,
   "metadata": {},
   "outputs": [],
   "source": [
    "bk6= df2013.loc[df2013['Meter_ID']==\"BV15BLODWXA.T\"]"
   ]
  },
  {
   "cell_type": "code",
   "execution_count": 32,
   "metadata": {},
   "outputs": [],
   "source": [
    "bk7= df2013.loc[df2013['Meter_ID']==\"BV29BLODWXA.T\"]"
   ]
  },
  {
   "cell_type": "code",
   "execution_count": 33,
   "metadata": {},
   "outputs": [],
   "source": [
    "bk8= df2013.loc[df2013['Meter_ID']==\"GR2BLODWXA.T\"]"
   ]
  },
  {
   "cell_type": "code",
   "execution_count": 34,
   "metadata": {},
   "outputs": [],
   "source": [
    "bk9= df2013.loc[df2013['Meter_ID']==\"GR8BLODWXA.T\"]"
   ]
  },
  {
   "cell_type": "code",
   "execution_count": 35,
   "metadata": {},
   "outputs": [],
   "source": [
    "bk10= df2013.loc[df2013['Meter_ID']==\"PY1BLODWXA.T\"]"
   ]
  },
  {
   "cell_type": "code",
   "execution_count": 36,
   "metadata": {},
   "outputs": [],
   "source": [
    "bk11= df2013.loc[df2013['Meter_ID']==\"WT12BLODWXA.T\"]"
   ]
  },
  {
   "cell_type": "code",
   "execution_count": 37,
   "metadata": {},
   "outputs": [],
   "source": [
    "bk12= df2013.loc[df2013['Meter_ID']==\"WT6BLODWXA.T\"]"
   ]
  },
  {
   "cell_type": "code",
   "execution_count": 38,
   "metadata": {},
   "outputs": [],
   "source": [
    "Brooklyn2013 = bk1.append([bk2, bk3,bk4,bk5,bk6,bk7,bk8,bk9,bk10,bk11,bk12])"
   ]
  },
  {
   "cell_type": "code",
   "execution_count": 39,
   "metadata": {},
   "outputs": [
    {
     "data": {
      "text/html": [
       "<div>\n",
       "<style scoped>\n",
       "    .dataframe tbody tr th:only-of-type {\n",
       "        vertical-align: middle;\n",
       "    }\n",
       "\n",
       "    .dataframe tbody tr th {\n",
       "        vertical-align: top;\n",
       "    }\n",
       "\n",
       "    .dataframe thead th {\n",
       "        text-align: right;\n",
       "    }\n",
       "</style>\n",
       "<table border=\"1\" class=\"dataframe\">\n",
       "  <thead>\n",
       "    <tr style=\"text-align: right;\">\n",
       "      <th></th>\n",
       "      <th>Meter_ID</th>\n",
       "      <th>DT</th>\n",
       "      <th>READING</th>\n",
       "      <th>BAD</th>\n",
       "      <th>LOADCONTROL</th>\n",
       "      <th>FILLED</th>\n",
       "      <th>INCOMPLETE</th>\n",
       "      <th>LOADEVENT</th>\n",
       "    </tr>\n",
       "  </thead>\n",
       "  <tbody>\n",
       "    <tr>\n",
       "      <th>1841544</th>\n",
       "      <td>BN110BLODWXA.T</td>\n",
       "      <td>2013-01-01 00:00:00</td>\n",
       "      <td>68.331</td>\n",
       "      <td>False</td>\n",
       "      <td>False</td>\n",
       "      <td>False</td>\n",
       "      <td>False</td>\n",
       "      <td>False</td>\n",
       "    </tr>\n",
       "    <tr>\n",
       "      <th>1841545</th>\n",
       "      <td>BN110BLODWXA.T</td>\n",
       "      <td>2013-01-01 01:00:00</td>\n",
       "      <td>64.627</td>\n",
       "      <td>False</td>\n",
       "      <td>False</td>\n",
       "      <td>False</td>\n",
       "      <td>False</td>\n",
       "      <td>False</td>\n",
       "    </tr>\n",
       "    <tr>\n",
       "      <th>1841546</th>\n",
       "      <td>BN110BLODWXA.T</td>\n",
       "      <td>2013-01-01 02:00:00</td>\n",
       "      <td>61.103</td>\n",
       "      <td>False</td>\n",
       "      <td>False</td>\n",
       "      <td>False</td>\n",
       "      <td>False</td>\n",
       "      <td>False</td>\n",
       "    </tr>\n",
       "    <tr>\n",
       "      <th>1841547</th>\n",
       "      <td>BN110BLODWXA.T</td>\n",
       "      <td>2013-01-01 03:00:00</td>\n",
       "      <td>58.366</td>\n",
       "      <td>False</td>\n",
       "      <td>False</td>\n",
       "      <td>False</td>\n",
       "      <td>False</td>\n",
       "      <td>False</td>\n",
       "    </tr>\n",
       "    <tr>\n",
       "      <th>1841548</th>\n",
       "      <td>BN110BLODWXA.T</td>\n",
       "      <td>2013-01-01 04:00:00</td>\n",
       "      <td>56.413</td>\n",
       "      <td>False</td>\n",
       "      <td>False</td>\n",
       "      <td>False</td>\n",
       "      <td>False</td>\n",
       "      <td>False</td>\n",
       "    </tr>\n",
       "  </tbody>\n",
       "</table>\n",
       "</div>"
      ],
      "text/plain": [
       "               Meter_ID                  DT  READING    BAD  LOADCONTROL  \\\n",
       "1841544  BN110BLODWXA.T 2013-01-01 00:00:00   68.331  False        False   \n",
       "1841545  BN110BLODWXA.T 2013-01-01 01:00:00   64.627  False        False   \n",
       "1841546  BN110BLODWXA.T 2013-01-01 02:00:00   61.103  False        False   \n",
       "1841547  BN110BLODWXA.T 2013-01-01 03:00:00   58.366  False        False   \n",
       "1841548  BN110BLODWXA.T 2013-01-01 04:00:00   56.413  False        False   \n",
       "\n",
       "         FILLED  INCOMPLETE  LOADEVENT  \n",
       "1841544   False       False      False  \n",
       "1841545   False       False      False  \n",
       "1841546   False       False      False  \n",
       "1841547   False       False      False  \n",
       "1841548   False       False      False  "
      ]
     },
     "execution_count": 39,
     "metadata": {},
     "output_type": "execute_result"
    }
   ],
   "source": [
    "Brooklyn2013.head()"
   ]
  },
  {
   "cell_type": "code",
   "execution_count": 40,
   "metadata": {},
   "outputs": [],
   "source": [
    "#Brooklyn2013.to_csv(\"output/Brooklyn2013.csv\")"
   ]
  },
  {
   "cell_type": "code",
   "execution_count": 41,
   "metadata": {},
   "outputs": [],
   "source": [
    "BK_daily= Brooklyn2013.groupby(['Meter_ID',Brooklyn2013.DT.dt.date]).sum()"
   ]
  },
  {
   "cell_type": "code",
   "execution_count": 42,
   "metadata": {},
   "outputs": [
    {
     "data": {
      "text/html": [
       "<div>\n",
       "<style scoped>\n",
       "    .dataframe tbody tr th:only-of-type {\n",
       "        vertical-align: middle;\n",
       "    }\n",
       "\n",
       "    .dataframe tbody tr th {\n",
       "        vertical-align: top;\n",
       "    }\n",
       "\n",
       "    .dataframe thead th {\n",
       "        text-align: right;\n",
       "    }\n",
       "</style>\n",
       "<table border=\"1\" class=\"dataframe\">\n",
       "  <thead>\n",
       "    <tr style=\"text-align: right;\">\n",
       "      <th></th>\n",
       "      <th></th>\n",
       "      <th>READING</th>\n",
       "      <th>BAD</th>\n",
       "      <th>LOADCONTROL</th>\n",
       "      <th>FILLED</th>\n",
       "      <th>INCOMPLETE</th>\n",
       "      <th>LOADEVENT</th>\n",
       "    </tr>\n",
       "    <tr>\n",
       "      <th>Meter_ID</th>\n",
       "      <th>DT</th>\n",
       "      <th></th>\n",
       "      <th></th>\n",
       "      <th></th>\n",
       "      <th></th>\n",
       "      <th></th>\n",
       "      <th></th>\n",
       "    </tr>\n",
       "  </thead>\n",
       "  <tbody>\n",
       "    <tr>\n",
       "      <th rowspan=\"5\" valign=\"top\">BN110BLODWXA.T</th>\n",
       "      <th>2013-01-01</th>\n",
       "      <td>1669.842</td>\n",
       "      <td>False</td>\n",
       "      <td>False</td>\n",
       "      <td>False</td>\n",
       "      <td>False</td>\n",
       "      <td>False</td>\n",
       "    </tr>\n",
       "    <tr>\n",
       "      <th>2013-01-02</th>\n",
       "      <td>1782.315</td>\n",
       "      <td>False</td>\n",
       "      <td>False</td>\n",
       "      <td>False</td>\n",
       "      <td>False</td>\n",
       "      <td>False</td>\n",
       "    </tr>\n",
       "    <tr>\n",
       "      <th>2013-01-03</th>\n",
       "      <td>1779.503</td>\n",
       "      <td>False</td>\n",
       "      <td>False</td>\n",
       "      <td>False</td>\n",
       "      <td>False</td>\n",
       "      <td>False</td>\n",
       "    </tr>\n",
       "    <tr>\n",
       "      <th>2013-01-04</th>\n",
       "      <td>1807.548</td>\n",
       "      <td>False</td>\n",
       "      <td>False</td>\n",
       "      <td>False</td>\n",
       "      <td>False</td>\n",
       "      <td>False</td>\n",
       "    </tr>\n",
       "    <tr>\n",
       "      <th>2013-01-05</th>\n",
       "      <td>1746.622</td>\n",
       "      <td>False</td>\n",
       "      <td>False</td>\n",
       "      <td>False</td>\n",
       "      <td>False</td>\n",
       "      <td>False</td>\n",
       "    </tr>\n",
       "  </tbody>\n",
       "</table>\n",
       "</div>"
      ],
      "text/plain": [
       "                            READING    BAD  LOADCONTROL  FILLED  INCOMPLETE  \\\n",
       "Meter_ID       DT                                                             \n",
       "BN110BLODWXA.T 2013-01-01  1669.842  False        False   False       False   \n",
       "               2013-01-02  1782.315  False        False   False       False   \n",
       "               2013-01-03  1779.503  False        False   False       False   \n",
       "               2013-01-04  1807.548  False        False   False       False   \n",
       "               2013-01-05  1746.622  False        False   False       False   \n",
       "\n",
       "                           LOADEVENT  \n",
       "Meter_ID       DT                     \n",
       "BN110BLODWXA.T 2013-01-01      False  \n",
       "               2013-01-02      False  \n",
       "               2013-01-03      False  \n",
       "               2013-01-04      False  \n",
       "               2013-01-05      False  "
      ]
     },
     "execution_count": 42,
     "metadata": {},
     "output_type": "execute_result"
    }
   ],
   "source": [
    "BK_daily.head()"
   ]
  },
  {
   "cell_type": "code",
   "execution_count": 48,
   "metadata": {},
   "outputs": [],
   "source": [
    "# Brooklyn daily meterwise power use for 2013\n",
    "BK_daily.to_csv(\"output/Brooklyn_daily_zone_wise.csv\")"
   ]
  },
  {
   "cell_type": "code",
   "execution_count": 49,
   "metadata": {},
   "outputs": [],
   "source": [
    "# daily without districts"
   ]
  },
  {
   "cell_type": "code",
   "execution_count": 50,
   "metadata": {},
   "outputs": [],
   "source": [
    "BK_daily_total= Brooklyn2013.groupby([Brooklyn2013.DT.dt.date]).sum()"
   ]
  },
  {
   "cell_type": "code",
   "execution_count": 51,
   "metadata": {},
   "outputs": [],
   "source": [
    "# Entire Brooklyn daily power use for 2013\n",
    "BK_daily_total.to_csv(\"output/Brooklyn_daily_whole_BK.csv\")"
   ]
  },
  {
   "cell_type": "code",
   "execution_count": 52,
   "metadata": {},
   "outputs": [],
   "source": [
    "BK_month= Brooklyn2013.groupby(['Meter_ID',Brooklyn2013.DT.dt.month]).sum()"
   ]
  },
  {
   "cell_type": "code",
   "execution_count": 53,
   "metadata": {},
   "outputs": [],
   "source": [
    "# Brooklyn meterwise monthly power use for 2013\n",
    "BK_month.to_csv(\"output/Brooklyn_monthly_zone_wise.csv\")"
   ]
  },
  {
   "cell_type": "code",
   "execution_count": 54,
   "metadata": {},
   "outputs": [],
   "source": [
    "BK_month_whole= Brooklyn2013.groupby([Brooklyn2013.DT.dt.month]).sum()"
   ]
  },
  {
   "cell_type": "code",
   "execution_count": 55,
   "metadata": {},
   "outputs": [],
   "source": [
    "# Entire Brooklyn monthly power use for 2013\n",
    "BK_month_whole.to_csv(\"output/Brooklyn_Monthly_whole_BK.csv\")"
   ]
  },
  {
   "cell_type": "markdown",
   "metadata": {},
   "source": [
    "# BRONX"
   ]
  },
  {
   "cell_type": "code",
   "execution_count": 56,
   "metadata": {},
   "outputs": [],
   "source": [
    "bronx1= df2013.loc[df2013['Meter_ID']==\"793XLODWXA.T\"]\n",
    "bronx2= df2013.loc[df2013['Meter_ID']==\"BR2XLODWXA.T\"]\n",
    "bronx3= df2013.loc[df2013['Meter_ID']==\"MT4XLODWXA.T\"]\n",
    "bronx4= df2013.loc[df2013['Meter_ID']==\"PK17XLODWXA.T\"]\n",
    "bronx5= df2013.loc[df2013['Meter_ID']==\"PK25XLODWXA.T\"]\n",
    "bronx6= df2013.loc[df2013['Meter_ID']==\"SC1XLODWXA.T\"]"
   ]
  },
  {
   "cell_type": "code",
   "execution_count": 57,
   "metadata": {},
   "outputs": [],
   "source": [
    "Bronx2013 = bronx1.append([bronx2, bronx3,bronx4,bronx5,bronx6])"
   ]
  },
  {
   "cell_type": "code",
   "execution_count": 58,
   "metadata": {
    "scrolled": true
   },
   "outputs": [],
   "source": [
    "Bronx2013.to_csv(\"output/Bronx2013hourly.csv\")"
   ]
  },
  {
   "cell_type": "code",
   "execution_count": 59,
   "metadata": {},
   "outputs": [
    {
     "data": {
      "text/plain": [
       "Meter_ID       52560\n",
       "DT             52560\n",
       "READING        52527\n",
       "BAD            52560\n",
       "LOADCONTROL    52560\n",
       "FILLED         52560\n",
       "INCOMPLETE     52560\n",
       "LOADEVENT      52560\n",
       "dtype: int64"
      ]
     },
     "execution_count": 59,
     "metadata": {},
     "output_type": "execute_result"
    }
   ],
   "source": [
    "Bronx2013.count()"
   ]
  },
  {
   "cell_type": "code",
   "execution_count": 60,
   "metadata": {},
   "outputs": [],
   "source": [
    "\n",
    "Bronx_daily= Bronx2013.groupby(['Meter_ID',Bronx2013.DT.dt.date]).sum()"
   ]
  },
  {
   "cell_type": "code",
   "execution_count": 61,
   "metadata": {},
   "outputs": [],
   "source": [
    "# Bronx daily meterwise power use for 2013\n",
    "Bronx_daily.to_csv(\"output/Bronx_daily_zone_wise.csv\")"
   ]
  },
  {
   "cell_type": "code",
   "execution_count": 62,
   "metadata": {},
   "outputs": [],
   "source": [
    "# Entire Bronx daily power use for 2013\n",
    "\n",
    "Bronx_daily_total= Bronx2013.groupby([Bronx2013.DT.dt.date]).sum()\n",
    "Bronx_daily_total.to_csv(\"output/Bronx_daily_whole_BK.csv\")"
   ]
  },
  {
   "cell_type": "code",
   "execution_count": 63,
   "metadata": {},
   "outputs": [],
   "source": [
    "# Bronx monthly meterwise power use for 2013\n",
    "Bronx_month= Bronx2013.groupby(['Meter_ID',Bronx2013.DT.dt.month]).sum()\n",
    "Bronx_month.to_csv(\"output/Bronx_monthly_zone_wise.csv\")"
   ]
  },
  {
   "cell_type": "code",
   "execution_count": 64,
   "metadata": {},
   "outputs": [],
   "source": [
    "# Entire Bronx monthly power use for 2013\n",
    "Bronx_month_whole= Bronx2013.groupby([Bronx2013.DT.dt.month]).sum()\n",
    "Bronx_month_whole.to_csv(\"output/Bronx_Monthly_whole_BK.csv\")"
   ]
  },
  {
   "cell_type": "markdown",
   "metadata": {},
   "source": [
    "# Manhattan"
   ]
  },
  {
   "cell_type": "code",
   "execution_count": null,
   "metadata": {},
   "outputs": [],
   "source": []
  },
  {
   "cell_type": "code",
   "execution_count": 65,
   "metadata": {},
   "outputs": [],
   "source": [
    "Manhattan1= df2013.loc[df2013['Meter_ID']==\"1012MLODWXA.T\"]\n",
    "Manhattan2= df2013.loc[df2013['Meter_ID']==\"710217MLODWXA.T\"]\n",
    "Manhattan3= df2013.loc[df2013['Meter_ID']==\"1913MLODWXA.T\"]\n",
    "Manhattan4= df2013.loc[df2013['Meter_ID']==\"296MLODWXA.T\"]\n",
    "\n",
    "Manhattan5= df2013.loc[df2013['Meter_ID']==\"3626MLODWXA.T\"]\n",
    "Manhattan6= df2013.loc[df2013['Meter_ID']==\"3643MLODWXA.T\"]\n",
    "Manhattan7= df2013.loc[df2013['Meter_ID']==\"4014MLODWXA.T\"]\n",
    "Manhattan8= df2013.loc[df2013['Meter_ID']==\"40229MLODWXA.T\"]\n",
    "\n",
    "Manhattan9= df2013.loc[df2013['Meter_ID']==\"42116MLODWXA.T\"]\n",
    "Manhattan10= df2013.loc[df2013['Meter_ID']==\"42221MLODWXA.T\"]\n",
    "Manhattan11= df2013.loc[df2013['Meter_ID']==\"5039MLODWXA.T\"]\n",
    "Manhattan12= df2013.loc[df2013['Meter_ID']==\"505MLODWXA.T\"]\n",
    "Manhattan13= df2013.loc[df2013['Meter_ID']==\"63120MLODWXA.T\"]\n",
    "Manhattan14= df2013.loc[df2013['Meter_ID']==\"6319MLODWXA.T\"]\n",
    "\n",
    "Manhattan15= df2013.loc[df2013['Meter_ID']==\"63225MLODWXA.T\"]\n",
    "Manhattan16= df2013.loc[df2013['Meter_ID']==\"63231MLODWXA.T\"]\n",
    "Manhattan17= df2013.loc[df2013['Meter_ID']==\"65111MLODWXA.T\"]\n",
    "Manhattan18= df2013.loc[df2013['Meter_ID']==\"65219MLODWXA.T\"]\n",
    "Manhattan19= df2013.loc[df2013['Meter_ID']==\"65223MLODWXA.T\"]\n",
    "Manhattan20= df2013.loc[df2013['Meter_ID']==\"7524MLODWXA.T\"]\n",
    "\n",
    "Manhattan21= df2013.loc[df2013['Meter_ID']==\"AA7MLODWXA.T\"]\n",
    "Manhattan22= df2013.loc[df2013['Meter_ID']==\"AR28MLODWXA.T\"]\n",
    "Manhattan23= df2013.loc[df2013['Meter_ID']==\"BR14MLODWXA.T\"]\n",
    "Manhattan24= df2013.loc[df2013['Meter_ID']==\"CH8MLODWXA.T\"]\n",
    "Manhattan25= df2013.loc[df2013['Meter_ID']==\"HG3MLODWXA.T\"]\n",
    "Manhattan26= df2013.loc[df2013['Meter_ID']==\"LE110MLODWXA.T\"]\n",
    "Manhattan27= df2013.loc[df2013['Meter_ID']==\"LE132MLODWXA.T\"]\n",
    "Manhattan28= df2013.loc[df2013['Meter_ID']==\"LE222MLODWXA.T\"]\n",
    "Manhattan29= df2013.loc[df2013['Meter_ID']==\"LE234MLODWXA.T\"]\n",
    "Manhattan30= df2013.loc[df2013['Meter_ID']==\"MH12MLODWXA.T\"]\n",
    "Manhattan31= df2013.loc[df2013['Meter_ID']==\"MH30MLODWXA.T\"]\n",
    "Manhattan32= df2013.loc[df2013['Meter_ID']==\"PA44MLODWXA.T\"]\n",
    "\n",
    "Manhattan33= df2013.loc[df2013['Meter_ID']==\"SC1MLODWXA.T\"]\n",
    "Manhattan34= df2013.loc[df2013['Meter_ID']==\"SE115MLODWXA.T\"]\n",
    "Manhattan35= df2013.loc[df2013['Meter_ID']==\"SE140MLODWXA.T\"]\n",
    "Manhattan36= df2013.loc[df2013['Meter_ID']==\"SE227MLODWXA.T\"]\n",
    "Manhattan37= df2013.loc[df2013['Meter_ID']==\"TC18MLODWXA.T\"]\n",
    "Manhattan38= df2013.loc[df2013['Meter_ID']==\"TC41MLODWXA.T\"]"
   ]
  },
  {
   "cell_type": "code",
   "execution_count": 66,
   "metadata": {},
   "outputs": [],
   "source": [
    "Manhattan2013 = Manhattan1.append([Manhattan2, Manhattan3,Manhattan4,Manhattan5,Manhattan6,Manhattan7,\n",
    "                                   Manhattan8,Manhattan9,Manhattan10,Manhattan11, Manhattan12,Manhattan13,Manhattan14,\n",
    "                                   Manhattan15,Manhattan16,Manhattan17,Manhattan18,Manhattan19,Manhattan20,\n",
    "                                   \n",
    "                                   Manhattan21, Manhattan22,Manhattan23,Manhattan24,Manhattan25,Manhattan26,\n",
    "                                   Manhattan27,Manhattan28,Manhattan29,Manhattan30, Manhattan31,Manhattan32,Manhattan33,\n",
    "                                   Manhattan34,Manhattan35,Manhattan36,Manhattan37,Manhattan38\n",
    "                                   ])"
   ]
  },
  {
   "cell_type": "code",
   "execution_count": 67,
   "metadata": {},
   "outputs": [],
   "source": [
    "Manhattan2013.to_csv(\"output/Manhattan2013hourly.csv\")"
   ]
  },
  {
   "cell_type": "code",
   "execution_count": 68,
   "metadata": {},
   "outputs": [
    {
     "data": {
      "text/plain": [
       "Meter_ID       324120\n",
       "DT             324120\n",
       "READING        254651\n",
       "BAD            324120\n",
       "LOADCONTROL    324120\n",
       "FILLED         324120\n",
       "INCOMPLETE     324120\n",
       "LOADEVENT      324120\n",
       "dtype: int64"
      ]
     },
     "execution_count": 68,
     "metadata": {},
     "output_type": "execute_result"
    }
   ],
   "source": [
    "Manhattan2013.count()"
   ]
  },
  {
   "cell_type": "code",
   "execution_count": 69,
   "metadata": {},
   "outputs": [],
   "source": [
    "Manhattan_daily= Manhattan2013.groupby(['Meter_ID',Manhattan2013.DT.dt.date]).sum()"
   ]
  },
  {
   "cell_type": "code",
   "execution_count": 70,
   "metadata": {},
   "outputs": [],
   "source": [
    "# Manhattan daily meterwise power use for 2013\n",
    "Manhattan_daily.to_csv(\"output/Manhattan_daily_zone_wise.csv\")"
   ]
  },
  {
   "cell_type": "code",
   "execution_count": 71,
   "metadata": {},
   "outputs": [],
   "source": [
    "# Entire Manhattan daily power use for 2013\n",
    "\n",
    "Manhattan_daily_total= Manhattan2013.groupby([Manhattan2013.DT.dt.date]).sum()\n",
    "Manhattan_daily_total.to_csv(\"output/Manhattan_daily_whole_BK.csv\")"
   ]
  },
  {
   "cell_type": "code",
   "execution_count": 72,
   "metadata": {},
   "outputs": [],
   "source": [
    "# Manhattan monthly meterwise power use for 2013\n",
    "Manhattan_month= Manhattan2013.groupby(['Meter_ID',Manhattan2013.DT.dt.month]).sum()\n",
    "Manhattan_month.to_csv(\"output/Manhattan_monthly_zone_wise.csv\")"
   ]
  },
  {
   "cell_type": "code",
   "execution_count": 73,
   "metadata": {},
   "outputs": [],
   "source": [
    "# Entire Manhattan monthly power use for 2013\n",
    "Manhattan_month_whole= Manhattan2013.groupby([Manhattan2013.DT.dt.month]).sum()\n",
    "Manhattan_month_whole.to_csv(\"output/Manhattan_Monthly_whole_BK.csv\")"
   ]
  },
  {
   "cell_type": "markdown",
   "metadata": {},
   "source": [
    "# queens"
   ]
  },
  {
   "cell_type": "code",
   "execution_count": 74,
   "metadata": {},
   "outputs": [],
   "source": [
    "queens1= df2013.loc[df2013['Meter_ID']==\"CO17QLODWXA.T\"]\n",
    "queens2= df2013.loc[df2013['Meter_ID']==\"CO23QLODWXA.T\"]\n",
    "queens3= df2013.loc[df2013['Meter_ID']==\"CO29QLODWXA.T\"]\n",
    "queens4= df2013.loc[df2013['Meter_ID']==\"GL6QLODWXA.T\"]\n",
    "queens5= df2013.loc[df2013['Meter_ID']==\"JA5QLODWXA.T\"]\n",
    "queens6= df2013.loc[df2013['Meter_ID']==\"NQ1QLODWXA.T\"]\n",
    "queens7= df2013.loc[df2013['Meter_ID']==\"NT10QLODWXA.T\"]\n",
    "queens8= df2013.loc[df2013['Meter_ID']==\"NT2QLODWXA.T\"]"
   ]
  },
  {
   "cell_type": "code",
   "execution_count": 75,
   "metadata": {},
   "outputs": [],
   "source": [
    "queens2013 = queens1.append([queens2,queens3,queens4,queens5,queens6,queens7,queens8])"
   ]
  },
  {
   "cell_type": "code",
   "execution_count": 76,
   "metadata": {},
   "outputs": [],
   "source": [
    "queens_daily= queens2013.groupby(['Meter_ID',queens2013.DT.dt.date]).sum()"
   ]
  },
  {
   "cell_type": "code",
   "execution_count": 77,
   "metadata": {},
   "outputs": [],
   "source": [
    "# Queens daily meterwise power use for 2013\n",
    "queens_daily.to_csv(\"output/Queens_daily_zone_wise.csv\")"
   ]
  },
  {
   "cell_type": "code",
   "execution_count": 78,
   "metadata": {},
   "outputs": [],
   "source": [
    "# Entire Queens daily power use for 2013\n",
    "\n",
    "queens_daily_total= queens2013.groupby([queens2013.DT.dt.date]).sum()\n",
    "queens_daily_total.to_csv(\"output/Queens_daily_whole_BK.csv\")"
   ]
  },
  {
   "cell_type": "code",
   "execution_count": 79,
   "metadata": {},
   "outputs": [],
   "source": [
    "# Queens monthly meterwise power use for 2013\n",
    "queens_month= queens2013.groupby(['Meter_ID',queens2013.DT.dt.month]).sum()\n",
    "queens_month.to_csv(\"output/Queens_monthly_zone_wise.csv\")"
   ]
  },
  {
   "cell_type": "code",
   "execution_count": 80,
   "metadata": {},
   "outputs": [],
   "source": [
    "# Entire Queens monthly power use for 2013\n",
    "queens_month_whole= queens2013.groupby([queens2013.DT.dt.month]).sum()\n",
    "queens_month_whole.to_csv(\"output/Queens_Monthly_whole_BK.csv\")"
   ]
  },
  {
   "cell_type": "markdown",
   "metadata": {},
   "source": [
    "# Staten Island"
   ]
  },
  {
   "cell_type": "code",
   "execution_count": 81,
   "metadata": {},
   "outputs": [],
   "source": [
    "SI1= df2013.loc[df2013['Meter_ID']==\"FH33RLODWXA.T\"]\n",
    "SI2= df2013.loc[df2013['Meter_ID']==\"FK33RLODWXA.T\"]\n",
    "SI3= df2013.loc[df2013['Meter_ID']==\"WB4RLODWXA.T\"]\n",
    "SI4= df2013.loc[df2013['Meter_ID']==\"WR5RLODWXA.T\"]\n",
    "SI5= df2013.loc[df2013['Meter_ID']==\"WW3RLODWXA.T\"]"
   ]
  },
  {
   "cell_type": "code",
   "execution_count": 82,
   "metadata": {},
   "outputs": [],
   "source": [
    "staten2013 = SI1.append([SI2,SI3,queens4,SI4,SI5])"
   ]
  },
  {
   "cell_type": "code",
   "execution_count": 83,
   "metadata": {},
   "outputs": [
    {
     "data": {
      "text/plain": [
       "Meter_ID       52560\n",
       "DT             52560\n",
       "READING        43781\n",
       "BAD            52560\n",
       "LOADCONTROL    52560\n",
       "FILLED         52560\n",
       "INCOMPLETE     52560\n",
       "LOADEVENT      52560\n",
       "dtype: int64"
      ]
     },
     "execution_count": 83,
     "metadata": {},
     "output_type": "execute_result"
    }
   ],
   "source": [
    "staten2013.count()"
   ]
  },
  {
   "cell_type": "code",
   "execution_count": 84,
   "metadata": {},
   "outputs": [],
   "source": [
    "staten_daily= staten2013.groupby(['Meter_ID',staten2013.DT.dt.date]).sum()"
   ]
  },
  {
   "cell_type": "code",
   "execution_count": 85,
   "metadata": {},
   "outputs": [],
   "source": [
    "# Staten Island daily meterwise power use for 2013\n",
    "staten_daily.to_csv(\"output/Staten_daily_zone_wise.csv\")"
   ]
  },
  {
   "cell_type": "code",
   "execution_count": 86,
   "metadata": {},
   "outputs": [],
   "source": [
    "# Entire Staten Island daily power use for 2013\n",
    "staten_daily_total= staten2013.groupby([staten2013.DT.dt.date]).sum()\n",
    "staten_daily_total.to_csv(\"output/Staten_daily_whole_BK.csv\")"
   ]
  },
  {
   "cell_type": "code",
   "execution_count": 87,
   "metadata": {},
   "outputs": [],
   "source": [
    "# Staten Island Monthly meterwise power use for 2013\n",
    "staten_month= staten2013.groupby(['Meter_ID',staten2013.DT.dt.month]).sum()\n",
    "staten_month.to_csv(\"output/Staten_monthly_zone_wise.csv\")"
   ]
  },
  {
   "cell_type": "code",
   "execution_count": 88,
   "metadata": {},
   "outputs": [],
   "source": [
    "# Entire Staten Island Monthly power use for 2013\n",
    "staten_month_whole= staten2013.groupby([staten2013.DT.dt.month]).sum()\n",
    "staten_month_whole.to_csv(\"output/Staten_Monthly_whole_BK.csv\")"
   ]
  },
  {
   "cell_type": "code",
   "execution_count": null,
   "metadata": {},
   "outputs": [],
   "source": []
  }
 ],
 "metadata": {
  "kernelspec": {
   "display_name": "Python 3",
   "language": "python",
   "name": "python3"
  },
  "language_info": {
   "codemirror_mode": {
    "name": "ipython",
    "version": 3
   },
   "file_extension": ".py",
   "mimetype": "text/x-python",
   "name": "python",
   "nbconvert_exporter": "python",
   "pygments_lexer": "ipython3",
   "version": "3.7.1"
  }
 },
 "nbformat": 4,
 "nbformat_minor": 2
}
