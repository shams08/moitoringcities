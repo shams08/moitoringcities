{
 "cells": [
  {
   "cell_type": "code",
   "execution_count": 1,
   "metadata": {},
   "outputs": [],
   "source": [
    "import pandas as pd"
   ]
  },
  {
   "cell_type": "code",
   "execution_count": 2,
   "metadata": {},
   "outputs": [],
   "source": [
    "green_2017_06 = pd.read_csv(\"data/green_tripdata_2017-06.csv\")\n",
    "yellow_2017_06 = pd.read_csv(\"data/yellow_tripdata_2017-06.csv\")\n",
    "fhv_2017_06 = pd.read_csv(\"data/fhv_tripdata_2017-06.csv\")\n"
   ]
  },
  {
   "cell_type": "code",
   "execution_count": 3,
   "metadata": {},
   "outputs": [],
   "source": [
    "green_2017_06 [\"lpep_pickup_datetime\"] = pd.to_datetime (green_2017_06.lpep_pickup_datetime)\n",
    "yellow_2017_06 [\"tpep_pickup_datetime\"] = pd.to_datetime (yellow_2017_06.tpep_pickup_datetime)\n",
    "fhv_2017_06 [\"Pickup_DateTime\"] = pd.to_datetime (fhv_2017_06.Pickup_DateTime)\n"
   ]
  },
  {
   "cell_type": "code",
   "execution_count": 4,
   "metadata": {},
   "outputs": [],
   "source": [
    "green_2017_06_1st_june = green_2017_06.loc [green_2017_06.lpep_pickup_datetime.dt.day ==1]\n",
    "yellow_2017_06_1st_june = yellow_2017_06.loc [yellow_2017_06.tpep_pickup_datetime.dt.day ==1] \n",
    "fhv_2017_06_1st_june = fhv_2017_06.loc [fhv_2017_06.Pickup_DateTime.dt.day ==1]\n",
    "\n"
   ]
  },
  {
   "cell_type": "code",
   "execution_count": 5,
   "metadata": {},
   "outputs": [],
   "source": [
    "lookup = pd.read_csv(\"data/taxi+_zone_lookup.csv\")"
   ]
  },
  {
   "cell_type": "code",
   "execution_count": 6,
   "metadata": {},
   "outputs": [],
   "source": [
    "# make a list of taxi zone id for Brooklyn\n",
    "Brooklyn_id = lookup.loc[lookup.Borough == 'Brooklyn']['LocationID'].tolist()\n",
    "\n",
    "# select Brooklyn TAXI pickups \n",
    "BK_pick_green_taxi = pd.DataFrame()\n",
    "for x in Brooklyn_id:  \n",
    "    BK_pick_green_taxi=BK_pick_green_taxi.append (green_2017_06_1st_june.loc[green_2017_06_1st_june.PULocationID==x])\n"
   ]
  },
  {
   "cell_type": "code",
   "execution_count": 7,
   "metadata": {},
   "outputs": [],
   "source": [
    "# select Brooklyn FVH pickups\n",
    "BK_pick_FHV = pd.DataFrame()\n",
    "for x in Brooklyn_id:  \n",
    "    BK_pick_FHV = BK_pick_FHV.append (fhv_2017_06_1st_june.loc[fhv_2017_06_1st_june.PUlocationID==x])\n",
    "\n"
   ]
  },
  {
   "cell_type": "code",
   "execution_count": 9,
   "metadata": {},
   "outputs": [],
   "source": [
    "# Calculate total number of pickup in each taxi zones in Brooklyn\n",
    "taxi_pick_per_zone = BK_pick_green_taxi.groupby([BK_pick_green_taxi.PULocationID]).count()\n",
    "taxi_pick_per_zone = taxi_pick_per_zone.rename(index=str, columns={\"VendorID\": \"total_pickups_taxi\"})\n",
    "taxi_pick_per_zone= taxi_pick_per_zone.reset_index()\n",
    "taxi_pick_per_zone = taxi_pick_per_zone.drop(['lpep_pickup_datetime', 'lpep_dropoff_datetime','lpep_dropoff_datetime','DOLocationID', 'store_and_fwd_flag', 'RatecodeID','passenger_count','trip_distance','fare_amount','extra', 'mta_tax','tip_amount','ehail_fee','improvement_surcharge', 'total_amount' ,'payment_type','trip_type', 'tolls_amount'], axis=1)\n",
    "\n"
   ]
  },
  {
   "cell_type": "code",
   "execution_count": 10,
   "metadata": {},
   "outputs": [],
   "source": [
    "# Calculate total number of Drops Offs in NYC  zones that are originated from Brooklyn \n",
    "taxi_drop_per_zone = BK_pick_green_taxi.groupby([BK_pick_green_taxi.DOLocationID]).count()\n",
    "taxi_drop_per_zone= taxi_drop_per_zone.rename(index=str, columns={\"VendorID\": \"total_dropoffs_taxi\"})\n",
    "taxi_drop_per_zone=taxi_drop_per_zone.reset_index()\n",
    "taxi_drop_per_zone = taxi_drop_per_zone.drop(['lpep_pickup_datetime', 'lpep_dropoff_datetime','lpep_dropoff_datetime','PULocationID', 'store_and_fwd_flag', \n",
    "                                              'RatecodeID','passenger_count','trip_distance','fare_amount','extra', 'mta_tax','tip_amount','ehail_fee','improvement_surcharge',\n",
    "                                              'total_amount' ,'payment_type','trip_type', 'tolls_amount'], axis=1)\n",
    "\n"
   ]
  },
  {
   "cell_type": "code",
   "execution_count": 11,
   "metadata": {},
   "outputs": [
    {
     "data": {
      "text/html": [
       "<div>\n",
       "<style scoped>\n",
       "    .dataframe tbody tr th:only-of-type {\n",
       "        vertical-align: middle;\n",
       "    }\n",
       "\n",
       "    .dataframe tbody tr th {\n",
       "        vertical-align: top;\n",
       "    }\n",
       "\n",
       "    .dataframe thead th {\n",
       "        text-align: right;\n",
       "    }\n",
       "</style>\n",
       "<table border=\"1\" class=\"dataframe\">\n",
       "  <thead>\n",
       "    <tr style=\"text-align: right;\">\n",
       "      <th></th>\n",
       "      <th>PULocationID</th>\n",
       "      <th>total_pickups_taxi</th>\n",
       "    </tr>\n",
       "  </thead>\n",
       "  <tbody>\n",
       "    <tr>\n",
       "      <th>0</th>\n",
       "      <td>14</td>\n",
       "      <td>31</td>\n",
       "    </tr>\n",
       "    <tr>\n",
       "      <th>1</th>\n",
       "      <td>17</td>\n",
       "      <td>321</td>\n",
       "    </tr>\n",
       "    <tr>\n",
       "      <th>2</th>\n",
       "      <td>21</td>\n",
       "      <td>2</td>\n",
       "    </tr>\n",
       "    <tr>\n",
       "      <th>3</th>\n",
       "      <td>22</td>\n",
       "      <td>4</td>\n",
       "    </tr>\n",
       "    <tr>\n",
       "      <th>4</th>\n",
       "      <td>25</td>\n",
       "      <td>793</td>\n",
       "    </tr>\n",
       "  </tbody>\n",
       "</table>\n",
       "</div>"
      ],
      "text/plain": [
       "  PULocationID  total_pickups_taxi\n",
       "0           14                  31\n",
       "1           17                 321\n",
       "2           21                   2\n",
       "3           22                   4\n",
       "4           25                 793"
      ]
     },
     "execution_count": 11,
     "metadata": {},
     "output_type": "execute_result"
    }
   ],
   "source": [
    "taxi_pick_per_zone.head()"
   ]
  },
  {
   "cell_type": "code",
   "execution_count": 12,
   "metadata": {},
   "outputs": [
    {
     "data": {
      "text/html": [
       "<div>\n",
       "<style scoped>\n",
       "    .dataframe tbody tr th:only-of-type {\n",
       "        vertical-align: middle;\n",
       "    }\n",
       "\n",
       "    .dataframe tbody tr th {\n",
       "        vertical-align: top;\n",
       "    }\n",
       "\n",
       "    .dataframe thead th {\n",
       "        text-align: right;\n",
       "    }\n",
       "</style>\n",
       "<table border=\"1\" class=\"dataframe\">\n",
       "  <thead>\n",
       "    <tr style=\"text-align: right;\">\n",
       "      <th></th>\n",
       "      <th>DOLocationID</th>\n",
       "      <th>total_dropoffs_taxi</th>\n",
       "    </tr>\n",
       "  </thead>\n",
       "  <tbody>\n",
       "    <tr>\n",
       "      <th>0</th>\n",
       "      <td>1</td>\n",
       "      <td>6</td>\n",
       "    </tr>\n",
       "    <tr>\n",
       "      <th>1</th>\n",
       "      <td>4</td>\n",
       "      <td>30</td>\n",
       "    </tr>\n",
       "    <tr>\n",
       "      <th>2</th>\n",
       "      <td>7</td>\n",
       "      <td>22</td>\n",
       "    </tr>\n",
       "    <tr>\n",
       "      <th>3</th>\n",
       "      <td>9</td>\n",
       "      <td>1</td>\n",
       "    </tr>\n",
       "    <tr>\n",
       "      <th>4</th>\n",
       "      <td>10</td>\n",
       "      <td>3</td>\n",
       "    </tr>\n",
       "  </tbody>\n",
       "</table>\n",
       "</div>"
      ],
      "text/plain": [
       "  DOLocationID  total_dropoffs_taxi\n",
       "0            1                    6\n",
       "1            4                   30\n",
       "2            7                   22\n",
       "3            9                    1\n",
       "4           10                    3"
      ]
     },
     "execution_count": 12,
     "metadata": {},
     "output_type": "execute_result"
    }
   ],
   "source": [
    "taxi_drop_per_zone.head()"
   ]
  },
  {
   "cell_type": "code",
   "execution_count": 14,
   "metadata": {},
   "outputs": [],
   "source": [
    "#calculate total number of  FHV pickups in each taxi zones in Brooklyn\n",
    "FHV_pick_per_zone = BK_pick_FHV.groupby([BK_pick_FHV.PUlocationID]).count()\n",
    "FHV_pick_per_zone = FHV_pick_per_zone.rename(index=str, columns={\"Pickup_DateTime\": \"total_pickups_fhv\"})\n",
    "FHV_pick_per_zone=FHV_pick_per_zone.reset_index()\n",
    "FHV_pick_per_zone = FHV_pick_per_zone.drop([ 'DropOff_datetime','DOlocationID'], axis=1)\n",
    "\n"
   ]
  },
  {
   "cell_type": "code",
   "execution_count": 15,
   "metadata": {},
   "outputs": [],
   "source": [
    "# Calculate total number of drop offs in each NYC where trips are originated from Brooklyn\n",
    "FHV_drop_per_zone = BK_pick_FHV.groupby([BK_pick_FHV.DOlocationID]).count()\n",
    "FHV_drop_per_zone = FHV_drop_per_zone.rename(index=str, columns={'Pickup_DateTime': \"total_dropoffs_fhv\"})\n",
    "FHV_drop_per_zone=FHV_drop_per_zone.reset_index()\n",
    "FHV_drop_per_zone = FHV_drop_per_zone.drop([ 'DropOff_datetime','PUlocationID'], axis=1)\n"
   ]
  },
  {
   "cell_type": "code",
   "execution_count": 16,
   "metadata": {},
   "outputs": [
    {
     "data": {
      "text/html": [
       "<div>\n",
       "<style scoped>\n",
       "    .dataframe tbody tr th:only-of-type {\n",
       "        vertical-align: middle;\n",
       "    }\n",
       "\n",
       "    .dataframe tbody tr th {\n",
       "        vertical-align: top;\n",
       "    }\n",
       "\n",
       "    .dataframe thead th {\n",
       "        text-align: right;\n",
       "    }\n",
       "</style>\n",
       "<table border=\"1\" class=\"dataframe\">\n",
       "  <thead>\n",
       "    <tr style=\"text-align: right;\">\n",
       "      <th></th>\n",
       "      <th>PUlocationID</th>\n",
       "      <th>Dispatching_base_num</th>\n",
       "      <th>total_pickups_fhv</th>\n",
       "    </tr>\n",
       "  </thead>\n",
       "  <tbody>\n",
       "    <tr>\n",
       "      <th>0</th>\n",
       "      <td>11.0</td>\n",
       "      <td>320</td>\n",
       "      <td>320</td>\n",
       "    </tr>\n",
       "    <tr>\n",
       "      <th>1</th>\n",
       "      <td>14.0</td>\n",
       "      <td>1766</td>\n",
       "      <td>1766</td>\n",
       "    </tr>\n",
       "    <tr>\n",
       "      <th>2</th>\n",
       "      <td>17.0</td>\n",
       "      <td>2908</td>\n",
       "      <td>2908</td>\n",
       "    </tr>\n",
       "    <tr>\n",
       "      <th>3</th>\n",
       "      <td>21.0</td>\n",
       "      <td>723</td>\n",
       "      <td>723</td>\n",
       "    </tr>\n",
       "    <tr>\n",
       "      <th>4</th>\n",
       "      <td>22.0</td>\n",
       "      <td>876</td>\n",
       "      <td>876</td>\n",
       "    </tr>\n",
       "  </tbody>\n",
       "</table>\n",
       "</div>"
      ],
      "text/plain": [
       "  PUlocationID  Dispatching_base_num  total_pickups_fhv\n",
       "0         11.0                   320                320\n",
       "1         14.0                  1766               1766\n",
       "2         17.0                  2908               2908\n",
       "3         21.0                   723                723\n",
       "4         22.0                   876                876"
      ]
     },
     "execution_count": 16,
     "metadata": {},
     "output_type": "execute_result"
    }
   ],
   "source": [
    "FHV_pick_per_zone.head()"
   ]
  },
  {
   "cell_type": "code",
   "execution_count": 17,
   "metadata": {},
   "outputs": [
    {
     "data": {
      "text/html": [
       "<div>\n",
       "<style scoped>\n",
       "    .dataframe tbody tr th:only-of-type {\n",
       "        vertical-align: middle;\n",
       "    }\n",
       "\n",
       "    .dataframe tbody tr th {\n",
       "        vertical-align: top;\n",
       "    }\n",
       "\n",
       "    .dataframe thead th {\n",
       "        text-align: right;\n",
       "    }\n",
       "</style>\n",
       "<table border=\"1\" class=\"dataframe\">\n",
       "  <thead>\n",
       "    <tr style=\"text-align: right;\">\n",
       "      <th></th>\n",
       "      <th>DOlocationID</th>\n",
       "      <th>Dispatching_base_num</th>\n",
       "      <th>total_dropoffs_fhv</th>\n",
       "    </tr>\n",
       "  </thead>\n",
       "  <tbody>\n",
       "    <tr>\n",
       "      <th>0</th>\n",
       "      <td>1.0</td>\n",
       "      <td>240</td>\n",
       "      <td>240</td>\n",
       "    </tr>\n",
       "    <tr>\n",
       "      <th>1</th>\n",
       "      <td>3.0</td>\n",
       "      <td>5</td>\n",
       "      <td>5</td>\n",
       "    </tr>\n",
       "    <tr>\n",
       "      <th>2</th>\n",
       "      <td>4.0</td>\n",
       "      <td>182</td>\n",
       "      <td>182</td>\n",
       "    </tr>\n",
       "    <tr>\n",
       "      <th>3</th>\n",
       "      <td>5.0</td>\n",
       "      <td>4</td>\n",
       "      <td>4</td>\n",
       "    </tr>\n",
       "    <tr>\n",
       "      <th>4</th>\n",
       "      <td>6.0</td>\n",
       "      <td>11</td>\n",
       "      <td>11</td>\n",
       "    </tr>\n",
       "  </tbody>\n",
       "</table>\n",
       "</div>"
      ],
      "text/plain": [
       "  DOlocationID  Dispatching_base_num  total_dropoffs_fhv\n",
       "0          1.0                   240                 240\n",
       "1          3.0                     5                   5\n",
       "2          4.0                   182                 182\n",
       "3          5.0                     4                   4\n",
       "4          6.0                    11                  11"
      ]
     },
     "execution_count": 17,
     "metadata": {},
     "output_type": "execute_result"
    }
   ],
   "source": [
    "FHV_drop_per_zone.head()"
   ]
  },
  {
   "cell_type": "code",
   "execution_count": 18,
   "metadata": {},
   "outputs": [],
   "source": [
    "# calculate per hour TAXI pickup in Brooklyn on june 1st 2017\n",
    "taxi_hourly = green_2017_06_1st_june.groupby([green_2017_06_1st_june.lpep_pickup_datetime.dt.hour], as_index=False).count()\n",
    "taxi_hourly=taxi_hourly.reset_index()\n",
    "taxi_hourly = taxi_hourly.drop(['lpep_pickup_datetime','lpep_dropoff_datetime','PULocationID','DOLocationID'], axis=1)\n",
    "taxi_hourly = taxi_hourly.rename(index=str, columns={\"VendorID\": \"total_pickups_taxi\"})\n",
    "taxi_hourly = taxi_hourly.rename(index=str, columns={\"index\": \"hour1\"})\n",
    "\n"
   ]
  },
  {
   "cell_type": "code",
   "execution_count": 19,
   "metadata": {},
   "outputs": [],
   "source": [
    "# calculate per hour FHV pickup in Brooklyn on june 1st 2017\n",
    "\n",
    "fhv_hourly = fhv_2017_06_1st_june.groupby([fhv_2017_06_1st_june.Pickup_DateTime.dt.hour], as_index=False).count()\n",
    "fhv_hourly=fhv_hourly.reset_index()\n",
    "fhv_hourly = fhv_hourly.drop(['DropOff_datetime','PUlocationID','DOlocationID'], axis=1)\n",
    "fhv_hourly = fhv_hourly.rename(index=str, columns={\"Pickup_DateTime\": \"total_pickups_FHV\"})\n",
    "fhv_hourly = fhv_hourly.rename(index=str, columns={\"index\": \"hour\"})\n"
   ]
  },
  {
   "cell_type": "code",
   "execution_count": 20,
   "metadata": {},
   "outputs": [],
   "source": [
    "joined_taxi_fhv = pd.concat([taxi_hourly, fhv_hourly], axis=1, join='inner')"
   ]
  },
  {
   "cell_type": "code",
   "execution_count": 25,
   "metadata": {},
   "outputs": [
    {
     "data": {
      "text/plain": [
       "<matplotlib.legend.Legend at 0x172adfef0>"
      ]
     },
     "execution_count": 25,
     "metadata": {},
     "output_type": "execute_result"
    },
    {
     "data": {
      "image/png": "[encoded data removed]",
      "text/plain": [
       "<Figure size 1440x576 with 1 Axes>"
      ]
     },
     "metadata": {
      "needs_background": "light"
     },
     "output_type": "display_data"
    }
   ],
   "source": [
    "\n",
    "\n",
    "import matplotlib.pyplot as plt\n",
    "#plt.figure();\n",
    "joined_taxi_fhv.plot(x='hour', y=['total_pickups_taxi', 'total_pickups_FHV'], linewidth=5, fontsize= 22,\n",
    "                     figsize=(20,8), grid=True, title=('Brooklyn Hourly Pick ups'), x_compat=True)\n",
    "plt.xlabel('Hour', fontsize=22)\n",
    "plt.title('Taxi and FHV pickup per hour',  fontsize=22)\n",
    "plt.legend(loc=2, prop={'size': 20})\n",
    "\n"
   ]
  },
  {
   "cell_type": "code",
   "execution_count": null,
   "metadata": {},
   "outputs": [],
   "source": []
  }
 ],
 "metadata": {
  "kernelspec": {
   "display_name": "Python 3",
   "language": "python",
   "name": "python3"
  },
  "language_info": {
   "codemirror_mode": {
    "name": "ipython",
    "version": 3
   },
   "file_extension": ".py",
   "mimetype": "text/x-python",
   "name": "python",
   "nbconvert_exporter": "python",
   "pygments_lexer": "ipython3",
   "version": "3.7.1"
  }
 },
 "nbformat": 4,
 "nbformat_minor": 2
}
